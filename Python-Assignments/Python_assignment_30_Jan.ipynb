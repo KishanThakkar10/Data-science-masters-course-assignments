{
 "cells": [
  {
   "cell_type": "markdown",
   "id": "ea84b5b0-07c3-4dd1-abd7-7cd530d1257d",
   "metadata": {},
   "source": [
    "# Assignment (30 Jan 2023)"
   ]
  },
  {
   "cell_type": "markdown",
   "id": "687a77cc-10a5-4baf-be55-d3e0f0141f59",
   "metadata": {},
   "source": [
    "### Q1. Write a program to accept percentage from the user and display the grade according to the following criteria"
   ]
  },
  {
   "cell_type": "code",
   "execution_count": 2,
   "id": "6f0a6ec0-4db5-466a-b197-9b2520003fca",
   "metadata": {},
   "outputs": [
    {
     "name": "stdin",
     "output_type": "stream",
     "text": [
      "Enter your marks:  85\n"
     ]
    },
    {
     "name": "stdout",
     "output_type": "stream",
     "text": [
      "Grade : B\n"
     ]
    }
   ],
   "source": [
    "marks = float(input(\"Enter your marks: \"))\n",
    "\n",
    "if marks > 90:\n",
    "    print('Grade : A')\n",
    "elif marks>80:\n",
    "    print('Grade : B')\n",
    "elif marks>=60:\n",
    "    print('Grade : C')\n",
    "else:\n",
    "    print('Grade : D')"
   ]
  },
  {
   "cell_type": "markdown",
   "id": "80366156-27ef-4ea9-87ab-11765f5587d3",
   "metadata": {},
   "source": [
    "### Q2. Write a program to accept the cost price of a bike and display the road tax to be paid according to the following criteria"
   ]
  },
  {
   "cell_type": "code",
   "execution_count": 3,
   "id": "b0ee7757-d28a-45eb-9e61-c7f11b592663",
   "metadata": {},
   "outputs": [
    {
     "name": "stdin",
     "output_type": "stream",
     "text": [
      "Enter cost price :  120000\n"
     ]
    },
    {
     "name": "stdout",
     "output_type": "stream",
     "text": [
      "Road tax =  18000.0\n"
     ]
    }
   ],
   "source": [
    "cost = float(input(\"Enter cost price : \"))\n",
    "\n",
    "if cost > 100000:\n",
    "    print(\"Road tax = \", cost*0.15)\n",
    "elif cost> 50000:\n",
    "    print(\"Road tax = \", cost*0.10)\n",
    "else:\n",
    "    print(\"Road tax = \", cost*0.05)"
   ]
  },
  {
   "cell_type": "markdown",
   "id": "97305391-b159-4712-8984-9b643c02749e",
   "metadata": {},
   "source": [
    "### Q3. Accept any City from the user and display monuments of that city."
   ]
  },
  {
   "cell_type": "code",
   "execution_count": 4,
   "id": "47a8ecb0-f171-4dba-a606-30dfa8093532",
   "metadata": {},
   "outputs": [
    {
     "name": "stdin",
     "output_type": "stream",
     "text": [
      "Enter city :  Jaipur\n"
     ]
    },
    {
     "name": "stdout",
     "output_type": "stream",
     "text": [
      "Monument : Jal mahal\n"
     ]
    }
   ],
   "source": [
    "city = input(\"Enter city : \")\n",
    "\n",
    "if city == \"Delhi\":\n",
    "    print(\"Monument : Red fort\")\n",
    "elif city == \"Agra\":\n",
    "    print(\"Monument : Taj mahal\")\n",
    "elif city == \"Jaipur\":\n",
    "    print(\"Monument : Jal mahal\")\n",
    "else:\n",
    "    print(\"Invalid city name\")"
   ]
  },
  {
   "cell_type": "markdown",
   "id": "e28f4352-280d-4a7d-bde0-3156e956debe",
   "metadata": {},
   "source": [
    "### Q4. Check how many times a given number can be divided by 3 before it is less than or equal to 10"
   ]
  },
  {
   "cell_type": "code",
   "execution_count": 5,
   "id": "4798aa18-4411-4028-a638-8bc9099757fe",
   "metadata": {},
   "outputs": [
    {
     "name": "stdin",
     "output_type": "stream",
     "text": [
      "Enter a number :  120\n"
     ]
    },
    {
     "name": "stdout",
     "output_type": "stream",
     "text": [
      "3\n"
     ]
    }
   ],
   "source": [
    "num = int(input(\"Enter a number : \"))\n",
    "count = 0\n",
    "\n",
    "while num>10:\n",
    "    num = num/3\n",
    "    count = count + 1\n",
    "    \n",
    "print(count)"
   ]
  },
  {
   "cell_type": "markdown",
   "id": "b7e56262-e858-4627-8f2b-e97389f49ae5",
   "metadata": {},
   "source": [
    "### Q5. Why and when to use while loop in python give a detailed description with example"
   ]
  },
  {
   "cell_type": "markdown",
   "id": "a796606f-3a5d-44dd-bdc7-4bcde14909a1",
   "metadata": {},
   "source": [
    "#### Answer:\n",
    "A while loop in Python is used to repeatedly execute a block of code as long as a certain condition remains true. It is a type of indefinite loop because the number of iterations is not known in advance. The condition is checked before each iteration, and if it evaluates to true, the loop continues executing. Once the condition becomes false, the loop terminates, and the program moves on to the next section of code.\n",
    "\n",
    "Here's a detailed description of why and when to use a while loop in Python, along with an example:\n",
    "\n",
    "- Repeating a Block of Code\n",
    "- Dynamic Looping\n",
    "- User-Interactive Programs\n",
    "\n",
    "Now let's see an example that demonstrates the usage of a while loop"
   ]
  },
  {
   "cell_type": "code",
   "execution_count": 7,
   "id": "c776ad6e-a0e1-4b9f-bbcb-e652a8b67816",
   "metadata": {},
   "outputs": [
    {
     "name": "stdin",
     "output_type": "stream",
     "text": [
      "Enter a number (enter a negative number to stop):  5\n",
      "Enter a number (enter a negative number to stop):  8\n",
      "Enter a number (enter a negative number to stop):  9\n",
      "Enter a number (enter a negative number to stop):  25\n",
      "Enter a number (enter a negative number to stop):  -1\n"
     ]
    },
    {
     "name": "stdout",
     "output_type": "stream",
     "text": [
      "The sum of the numbers entered is: 47\n"
     ]
    }
   ],
   "source": [
    "# Summing numbers entered by the user\n",
    "sum = 0\n",
    "number = 0\n",
    "\n",
    "while number >= 0:\n",
    "    number = int(input(\"Enter a number (enter a negative number to stop): \"))\n",
    "    if number >= 0:\n",
    "        sum += number\n",
    "\n",
    "print(\"The sum of the numbers entered is:\", sum)"
   ]
  },
  {
   "cell_type": "markdown",
   "id": "8afefd54-9ae5-4874-8a2c-8d2c42ea848c",
   "metadata": {},
   "source": [
    "While loops provide flexibility and control over repetitive tasks, but it's essential to ensure that the loop eventually terminates to avoid unintended consequences or freezing of the program."
   ]
  },
  {
   "cell_type": "markdown",
   "id": "b688e20b-f0c8-4e93-8de4-55103f1e6a6d",
   "metadata": {},
   "source": [
    "### Q6. Use nested while loop to print 3 different patterns"
   ]
  },
  {
   "cell_type": "markdown",
   "id": "af029bf3-2fdb-42cf-a1f2-de7c83ccd2ea",
   "metadata": {},
   "source": [
    "#### Pattern 1:"
   ]
  },
  {
   "cell_type": "code",
   "execution_count": 9,
   "id": "b7bbc482-f0f8-4389-9158-07aad4107227",
   "metadata": {},
   "outputs": [
    {
     "name": "stdout",
     "output_type": "stream",
     "text": [
      "* \n",
      "* * \n",
      "* * * \n",
      "* * * * \n",
      "* * * * * \n"
     ]
    }
   ],
   "source": [
    "\n",
    "rows = 5\n",
    "i = 1\n",
    "\n",
    "while i <= rows:\n",
    "    j = 1\n",
    "    while j <= i:\n",
    "        print('*', end=' ')\n",
    "        j += 1\n",
    "    print()\n",
    "    i += 1"
   ]
  },
  {
   "cell_type": "markdown",
   "id": "7abc3088-7d68-4101-ac56-6cb0200f534d",
   "metadata": {},
   "source": [
    "#### Pattern 2:"
   ]
  },
  {
   "cell_type": "code",
   "execution_count": 10,
   "id": "2e2af25c-49ed-405d-bd21-312edd602a1a",
   "metadata": {},
   "outputs": [
    {
     "name": "stdout",
     "output_type": "stream",
     "text": [
      "* * * * * \n",
      "* * * * \n",
      "* * * \n",
      "* * \n",
      "* \n"
     ]
    }
   ],
   "source": [
    "rows = 5\n",
    "i = rows\n",
    "\n",
    "while i >= 1:\n",
    "    j = 1\n",
    "    while j <= i:\n",
    "        print('*', end=' ')\n",
    "        j += 1\n",
    "    print()\n",
    "    i -= 1"
   ]
  },
  {
   "cell_type": "markdown",
   "id": "337bbcd5-d458-4696-b46c-75001cb3a4d8",
   "metadata": {},
   "source": [
    "#### Pattern 3:"
   ]
  },
  {
   "cell_type": "code",
   "execution_count": 11,
   "id": "4958396d-7eff-4db3-8d9b-de600a63c7ca",
   "metadata": {},
   "outputs": [
    {
     "name": "stdout",
     "output_type": "stream",
     "text": [
      "A \n",
      "B C \n",
      "D E F \n",
      "G H I J \n",
      "K L M N O \n"
     ]
    }
   ],
   "source": [
    "rows = 5\n",
    "current_char = ord('A')\n",
    "i = 0\n",
    "\n",
    "while i < rows:\n",
    "    j = 0\n",
    "    while j <= i:\n",
    "        char = chr(current_char)\n",
    "        print(char, end=\" \")\n",
    "        current_char += 1\n",
    "        j += 1\n",
    "    print()\n",
    "    i += 1"
   ]
  },
  {
   "cell_type": "markdown",
   "id": "82964cd7-20f5-4482-910e-d85921091f34",
   "metadata": {},
   "source": [
    "### Q7. Reverse a while loop to display numbers from 10 to 1"
   ]
  },
  {
   "cell_type": "code",
   "execution_count": 12,
   "id": "3c677cac-4606-44fc-8c64-4b48b5a72c06",
   "metadata": {},
   "outputs": [
    {
     "name": "stdout",
     "output_type": "stream",
     "text": [
      "10\n",
      "9\n",
      "8\n",
      "7\n",
      "6\n",
      "5\n",
      "4\n",
      "3\n",
      "2\n",
      "1\n"
     ]
    }
   ],
   "source": [
    "num = 10\n",
    "\n",
    "while num >= 1:\n",
    "    print(num)\n",
    "    num -= 1"
   ]
  },
  {
   "cell_type": "markdown",
   "id": "35a8cf5a-f0bd-4951-88b4-802ccd3e4638",
   "metadata": {},
   "source": [
    "### Q8. Reverse a while loop to display numbers from 10 to 1"
   ]
  },
  {
   "cell_type": "code",
   "execution_count": 13,
   "id": "353cb37f-defe-4892-8952-fc8c739c2a94",
   "metadata": {},
   "outputs": [
    {
     "name": "stdout",
     "output_type": "stream",
     "text": [
      "10\n",
      "9\n",
      "8\n",
      "7\n",
      "6\n",
      "5\n",
      "4\n",
      "3\n",
      "2\n",
      "1\n"
     ]
    }
   ],
   "source": [
    "num = 10\n",
    "\n",
    "while num >= 1:\n",
    "    print(num)\n",
    "    num -= 1"
   ]
  }
 ],
 "metadata": {
  "kernelspec": {
   "display_name": "Python 3 (ipykernel)",
   "language": "python",
   "name": "python3"
  },
  "language_info": {
   "codemirror_mode": {
    "name": "ipython",
    "version": 3
   },
   "file_extension": ".py",
   "mimetype": "text/x-python",
   "name": "python",
   "nbconvert_exporter": "python",
   "pygments_lexer": "ipython3",
   "version": "3.10.8"
  }
 },
 "nbformat": 4,
 "nbformat_minor": 5
}
