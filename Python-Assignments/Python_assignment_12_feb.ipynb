{
 "cells": [
  {
   "cell_type": "markdown",
   "id": "3e4dd0d3-4b51-494a-b8e1-389ecdcc261a",
   "metadata": {},
   "source": [
    "# Assignment - Exception handeling (12 feb 2023)"
   ]
  },
  {
   "cell_type": "markdown",
   "id": "275381c1-a6aa-4553-92aa-fe0ebb0e4674",
   "metadata": {},
   "source": [
    "### Q1.What is an exception in python? write the difference between exception and syntex errors."
   ]
  },
  {
   "cell_type": "markdown",
   "id": "fbfdb204-3c69-4e79-89f1-39230b8d2e03",
   "metadata": {},
   "source": [
    "In Python, an exception is an event that occurs during the execution of a program, which disrupts the normal flow of the program's instructions. When an exception occurs, the program stops executing its current sequence of statements and jumps to a special block of code called an exception handler. The exception handler is responsible for catching and handling the exception."
   ]
  },
  {
   "cell_type": "markdown",
   "id": "0d12c0dc-d49d-4d25-84d2-c1d5e104abe0",
   "metadata": {},
   "source": [
    "difference between exceptions and syntax errors:\n",
    "\n",
    "#### Syntax Errors: \n",
    "Syntax errors, also known as parsing errors, occur when the Python interpreter encounters code that violates the language's syntax rules. These errors occur during the parsing phase, before the code is executed. Common causes of syntax errors include misspelled keywords, missing or misplaced punctuation, and incorrect indentation. When a syntax error occurs, the Python interpreter raises a SyntaxError exception and displays an error message that helps identify the issue.\n",
    "\n",
    "Example of a syntax error:"
   ]
  },
  {
   "cell_type": "code",
   "execution_count": 1,
   "id": "303c0936-9b01-43ff-87e0-7d0b12486c2c",
   "metadata": {},
   "outputs": [
    {
     "ename": "SyntaxError",
     "evalue": "unterminated string literal (detected at line 1) (1520555421.py, line 1)",
     "output_type": "error",
     "traceback": [
      "\u001b[0;36m  Cell \u001b[0;32mIn[1], line 1\u001b[0;36m\u001b[0m\n\u001b[0;31m    print(\"Hello, World!)\u001b[0m\n\u001b[0m          ^\u001b[0m\n\u001b[0;31mSyntaxError\u001b[0m\u001b[0;31m:\u001b[0m unterminated string literal (detected at line 1)\n"
     ]
    }
   ],
   "source": [
    "print(\"Hello, World!)"
   ]
  },
  {
   "cell_type": "markdown",
   "id": "aa813be5-c0e5-4f0e-8ae0-430c2cf23196",
   "metadata": {},
   "source": [
    "#### Exceptions: \n",
    "Exceptions, on the other hand, are runtime errors that occur during the execution of a program. They represent exceptional situations or conditions that the program encounters, such as dividing a number by zero, accessing an index out of bounds, or attempting to open a file that doesn't exist. When an exception occurs, the program's normal flow is disrupted, and the control is transferred to an exception handler that can catch and handle the exception.\n",
    "\n",
    "Example of an exception:"
   ]
  },
  {
   "cell_type": "code",
   "execution_count": 2,
   "id": "329e4f15-8ad8-4075-ae1d-b6741cf16793",
   "metadata": {},
   "outputs": [
    {
     "ename": "ZeroDivisionError",
     "evalue": "division by zero",
     "output_type": "error",
     "traceback": [
      "\u001b[0;31m---------------------------------------------------------------------------\u001b[0m",
      "\u001b[0;31mZeroDivisionError\u001b[0m                         Traceback (most recent call last)",
      "Cell \u001b[0;32mIn[2], line 3\u001b[0m\n\u001b[1;32m      1\u001b[0m num1 \u001b[38;5;241m=\u001b[39m \u001b[38;5;241m10\u001b[39m\n\u001b[1;32m      2\u001b[0m num2 \u001b[38;5;241m=\u001b[39m \u001b[38;5;241m0\u001b[39m\n\u001b[0;32m----> 3\u001b[0m result \u001b[38;5;241m=\u001b[39m \u001b[43mnum1\u001b[49m\u001b[43m \u001b[49m\u001b[38;5;241;43m/\u001b[39;49m\u001b[43m \u001b[49m\u001b[43mnum2\u001b[49m\n",
      "\u001b[0;31mZeroDivisionError\u001b[0m: division by zero"
     ]
    }
   ],
   "source": [
    "num1 = 10\n",
    "num2 = 0\n",
    "result = num1 / num2"
   ]
  },
  {
   "cell_type": "markdown",
   "id": "ee678e3a-54d4-453b-82b1-eab1edad3d24",
   "metadata": {},
   "source": [
    "### Q2. What happens when an exception is not handled? explain with an example."
   ]
  },
  {
   "cell_type": "markdown",
   "id": "9fde9377-0651-4d9d-b8c8-09ce4445b326",
   "metadata": {},
   "source": [
    "When an exception is not handled in Python, it leads to an unhandled exception error, also known as an uncaught exception. This error occurs when an exception is raised, but no code is present to catch and handle the exception. When an unhandled exception occurs, the program terminates abruptly, and an error message is displayed.\n",
    "\n",
    "Here's an example to illustrate what happens when an exception is not handled:"
   ]
  },
  {
   "cell_type": "code",
   "execution_count": 3,
   "id": "40d57919-c4f3-4313-a9f3-0104f856147b",
   "metadata": {},
   "outputs": [
    {
     "ename": "ZeroDivisionError",
     "evalue": "division by zero",
     "output_type": "error",
     "traceback": [
      "\u001b[0;31m---------------------------------------------------------------------------\u001b[0m",
      "\u001b[0;31mZeroDivisionError\u001b[0m                         Traceback (most recent call last)",
      "Cell \u001b[0;32mIn[3], line 7\u001b[0m\n\u001b[1;32m      5\u001b[0m num1 \u001b[38;5;241m=\u001b[39m \u001b[38;5;241m10\u001b[39m\n\u001b[1;32m      6\u001b[0m num2 \u001b[38;5;241m=\u001b[39m \u001b[38;5;241m0\u001b[39m\n\u001b[0;32m----> 7\u001b[0m result \u001b[38;5;241m=\u001b[39m \u001b[43mdivide_numbers\u001b[49m\u001b[43m(\u001b[49m\u001b[43mnum1\u001b[49m\u001b[43m,\u001b[49m\u001b[43m \u001b[49m\u001b[43mnum2\u001b[49m\u001b[43m)\u001b[49m\n\u001b[1;32m      8\u001b[0m \u001b[38;5;28mprint\u001b[39m(result)\n",
      "Cell \u001b[0;32mIn[3], line 2\u001b[0m, in \u001b[0;36mdivide_numbers\u001b[0;34m(num1, num2)\u001b[0m\n\u001b[1;32m      1\u001b[0m \u001b[38;5;28;01mdef\u001b[39;00m \u001b[38;5;21mdivide_numbers\u001b[39m(num1, num2):\n\u001b[0;32m----> 2\u001b[0m     result \u001b[38;5;241m=\u001b[39m \u001b[43mnum1\u001b[49m\u001b[43m \u001b[49m\u001b[38;5;241;43m/\u001b[39;49m\u001b[43m \u001b[49m\u001b[43mnum2\u001b[49m\n\u001b[1;32m      3\u001b[0m     \u001b[38;5;28;01mreturn\u001b[39;00m result\n",
      "\u001b[0;31mZeroDivisionError\u001b[0m: division by zero"
     ]
    }
   ],
   "source": [
    "def divide_numbers(num1, num2):\n",
    "    result = num1 / num2\n",
    "    return result\n",
    "\n",
    "num1 = 10\n",
    "num2 = 0\n",
    "result = divide_numbers(num1, num2)\n",
    "print(result)"
   ]
  },
  {
   "cell_type": "markdown",
   "id": "17e761f5-9031-4b1b-8ab4-2727a5e434cd",
   "metadata": {},
   "source": [
    "### Q3.Which python statements are used to catch and handle exceptions? explain with an example"
   ]
  },
  {
   "cell_type": "markdown",
   "id": "00e40775-c8d6-40d1-bc39-8139082d83df",
   "metadata": {},
   "source": [
    "In Python, the try-except statements are used to catch and handle exceptions. The try block is used to enclose the code that may raise an exception, and the except block is used to specify the code that should be executed when a specific exception occurs. Here's an explanation with an example:"
   ]
  },
  {
   "cell_type": "markdown",
   "id": "719b8196-3530-4c18-9a65-8b7acaad02f9",
   "metadata": {},
   "source": [
    "Let's consider an example where we attempt to convert a user input into an integer:"
   ]
  },
  {
   "cell_type": "code",
   "execution_count": 5,
   "id": "dabb8dae-0a69-44af-b1ad-a2286495cc46",
   "metadata": {},
   "outputs": [
    {
     "name": "stdin",
     "output_type": "stream",
     "text": [
      "Enter a number:  abc\n"
     ]
    },
    {
     "name": "stdout",
     "output_type": "stream",
     "text": [
      "Invalid input. Please enter a valid integer.\n"
     ]
    }
   ],
   "source": [
    "try:\n",
    "    user_input = input(\"Enter a number: \")\n",
    "    number = int(user_input)\n",
    "    print(\"The number is:\", number)\n",
    "except ValueError:\n",
    "    print(\"Invalid input. Please enter a valid integer.\")"
   ]
  },
  {
   "cell_type": "markdown",
   "id": "e03a0f66-fe78-481a-a3a7-ec51aa3b21f2",
   "metadata": {},
   "source": [
    "### Q4. Explain with an example\n",
    "### a. try and else \n",
    "### b.finally \n",
    "### c.raise"
   ]
  },
  {
   "cell_type": "markdown",
   "id": "e5f57644-8817-40bb-854f-f72ce4696de4",
   "metadata": {},
   "source": [
    "#### a. try and else: \n",
    "The try and else blocks are used together in exception handling in Python. The try block contains the code that may raise an exception, and the else block contains the code that should be executed if no exception occurs in the try block.\n",
    "\n",
    "Here's an example to illustrate the usage of try and else blocks:"
   ]
  },
  {
   "cell_type": "code",
   "execution_count": 9,
   "id": "01366653-79b5-4279-aa0a-b62e679b9187",
   "metadata": {},
   "outputs": [
    {
     "name": "stdout",
     "output_type": "stream",
     "text": [
      "The division result is: 2.0\n"
     ]
    }
   ],
   "source": [
    "try:\n",
    "    num1 = 10\n",
    "    num2 = 5\n",
    "    result = num1 / num2\n",
    "except ZeroDivisionError:\n",
    "    print(\"Error: Cannot divide by zero\")\n",
    "else:\n",
    "    print(\"The division result is:\", result)\n"
   ]
  },
  {
   "cell_type": "markdown",
   "id": "5073bdd5-260c-40e9-8d72-2e705604afe6",
   "metadata": {},
   "source": [
    "#### b. finally: \n",
    "The finally block is used in exception handling and is executed regardless of whether an exception occurs or not. It is commonly used to perform cleanup operations, such as closing files or releasing resources, that need to be done irrespective of exceptions.\n",
    "\n",
    "Here's an example to illustrate the usage of the finally block:"
   ]
  },
  {
   "cell_type": "code",
   "execution_count": 11,
   "id": "520244db-a657-471e-a5aa-0693ea74681f",
   "metadata": {},
   "outputs": [
    {
     "name": "stdout",
     "output_type": "stream",
     "text": [
      "Error: File not found or cannot be opened\n"
     ]
    }
   ],
   "source": [
    "try:\n",
    "    file = open(\"example10.txt\", \"r\")\n",
    "    # Perform file operations\n",
    "except IOError:\n",
    "    print(\"Error: File not found or cannot be opened\")\n",
    "finally:\n",
    "    file.close()\n"
   ]
  },
  {
   "cell_type": "markdown",
   "id": "340180fe-3f8a-47b3-87e0-b1ed892c4a7c",
   "metadata": {},
   "source": [
    "#### c. raise: \n",
    "The raise keyword is used to explicitly raise an exception in Python. It allows you to generate and raise exceptions based on specific conditions or situations in your code.\n",
    "\n",
    "Here's an example to demonstrate the usage of raise:"
   ]
  },
  {
   "cell_type": "code",
   "execution_count": 12,
   "id": "1b2a612a-43c9-4a52-be3e-e7dbc4ee81f2",
   "metadata": {},
   "outputs": [
    {
     "name": "stdin",
     "output_type": "stream",
     "text": [
      "Enter your age:  12\n"
     ]
    },
    {
     "name": "stdout",
     "output_type": "stream",
     "text": [
      "Invalid age. Age must be at least 18 years.\n"
     ]
    }
   ],
   "source": [
    "def validate_age(age):\n",
    "    if age < 0:\n",
    "        raise ValueError(\"Invalid age. Age must be a positive integer.\")\n",
    "    elif age < 18:\n",
    "        raise ValueError(\"Invalid age. Age must be at least 18 years.\")\n",
    "\n",
    "try:\n",
    "    user_age = int(input(\"Enter your age: \"))\n",
    "    validate_age(user_age)\n",
    "    print(\"Valid age!\")\n",
    "except ValueError as e:\n",
    "    print(e)"
   ]
  },
  {
   "cell_type": "markdown",
   "id": "1c90ba3a-da9a-406a-9878-cc93989e0063",
   "metadata": {},
   "source": [
    "### Q5. What are custom exceptions in python? why do we need custom exceptions? explain with an example"
   ]
  },
  {
   "cell_type": "markdown",
   "id": "a3d87210-29ba-423b-9b33-641a86edbd9f",
   "metadata": {},
   "source": [
    "Custom exceptions in Python are user-defined exceptions that inherit from the built-in Exception class or its subclasses. They are used to represent specific exceptional situations in a program that are not adequately covered by the existing built-in exceptions.\n",
    "\n",
    "Here are a few reasons why we may need custom exceptions:\n",
    "\n",
    "1. More Specific Error Handling: Custom exceptions allow you to define and handle specific exceptional situations in your code. By creating custom exceptions, you can provide more targeted error handling and communicate the nature of the exceptional condition to developers who use your code.\n",
    "\n",
    "2. Modularity and Readability: Custom exceptions can improve the modularity and readability of your code. By creating custom exceptions, you can encapsulate the logic related to a specific exceptional situation within the exception class itself. This makes the code more organized, maintainable, and easier to understand.\n",
    "\n",
    "3. Custom Error Messages: Custom exceptions allow you to define custom error messages that provide more context and information about the exceptional situation. You can include additional attributes or methods in your custom exception class to enhance the error message and provide more details to aid in troubleshooting.\n",
    "\n",
    "Here's an example to illustrate the usage of custom exceptions:"
   ]
  },
  {
   "cell_type": "code",
   "execution_count": 6,
   "id": "e90d615f-b3ca-4ee9-b23d-a4f080c6b9e1",
   "metadata": {},
   "outputs": [],
   "source": [
    "class validate_age(Exception): # here we inherited Exception class\n",
    "    def __init__(self, message):\n",
    "        self.message = message"
   ]
  },
  {
   "cell_type": "code",
   "execution_count": 7,
   "id": "4e741b5d-a45e-45fc-bb98-500e173ef73d",
   "metadata": {},
   "outputs": [],
   "source": [
    "def validate(age):\n",
    "    if age < 0:\n",
    "        raise validate_age(\"age should not be less than 0\")\n",
    "    elif age > 200:\n",
    "        raise validate_age(\"age is too high\")\n",
    "    else:\n",
    "        print(\"age is valid\")"
   ]
  },
  {
   "cell_type": "code",
   "execution_count": 8,
   "id": "114de3da-d55f-4a31-9157-3dd0ff125f02",
   "metadata": {},
   "outputs": [
    {
     "name": "stdin",
     "output_type": "stream",
     "text": [
      "Enter age :  -25\n"
     ]
    },
    {
     "name": "stdout",
     "output_type": "stream",
     "text": [
      "age should not be less than 0\n"
     ]
    }
   ],
   "source": [
    "try:\n",
    "    age = int(input(\"Enter age : \"))\n",
    "    validate(age)\n",
    "except validate_age as e:\n",
    "    print(e)"
   ]
  },
  {
   "cell_type": "markdown",
   "id": "7b81a41d-fc6e-4863-85c1-5758357fd0c5",
   "metadata": {},
   "source": [
    "### Q6.Create a custom exception class. use this class to handle an exception"
   ]
  },
  {
   "cell_type": "code",
   "execution_count": 13,
   "id": "a595541b-e0c4-4d08-adb4-e45b337733ed",
   "metadata": {},
   "outputs": [
    {
     "name": "stdout",
     "output_type": "stream",
     "text": [
      "Custom Exception Caught: Invalid age. Age must be a positive integer.\n"
     ]
    }
   ],
   "source": [
    "class MyCustomException(Exception):\n",
    "    def __init__(self, message):\n",
    "        self.message = message\n",
    "\n",
    "try:\n",
    "    age = -5\n",
    "    if age < 0:\n",
    "        raise MyCustomException(\"Invalid age. Age must be a positive integer.\")\n",
    "except MyCustomException as e:\n",
    "    print(\"Custom Exception Caught:\", e.message)\n"
   ]
  },
  {
   "cell_type": "code",
   "execution_count": null,
   "id": "50e9b851-c171-490a-aea5-f4f8a99ba52f",
   "metadata": {},
   "outputs": [],
   "source": []
  }
 ],
 "metadata": {
  "kernelspec": {
   "display_name": "Python 3 (ipykernel)",
   "language": "python",
   "name": "python3"
  },
  "language_info": {
   "codemirror_mode": {
    "name": "ipython",
    "version": 3
   },
   "file_extension": ".py",
   "mimetype": "text/x-python",
   "name": "python",
   "nbconvert_exporter": "python",
   "pygments_lexer": "ipython3",
   "version": "3.10.8"
  }
 },
 "nbformat": 4,
 "nbformat_minor": 5
}
