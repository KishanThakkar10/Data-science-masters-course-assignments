{
 "cells": [
  {
   "cell_type": "markdown",
   "id": "24c8c812-aa14-4bae-a11a-e51612978f34",
   "metadata": {},
   "source": [
    "# Assignment - Python task 1 (6 feb 2023)"
   ]
  },
  {
   "cell_type": "markdown",
   "id": "3e943439-7110-427e-b724-fcc4ddaed4d0",
   "metadata": {},
   "source": [
    "### Q1. Create a function which will take a list as an argument and return the product of all the numbers after creating a flat list. Use the below-given list as an argument for your function.\n",
    "list1 = [1,2,3,4, [44,55,66, True], False, (34,56,78,89,34), {1,2,3,3,2,1}, {1:34, \"key2\": [55, 67, 78, 89], 4: (45,\n",
    "22, 61, 34)}, [56, 'data science'], 'Machine Learning']\n",
    "Note: you must extract numeric keys and values of the dictionary also."
   ]
  },
  {
   "cell_type": "code",
   "execution_count": 29,
   "id": "c94f6216-14f8-49ad-a8c4-34a88f4c30cb",
   "metadata": {},
   "outputs": [],
   "source": [
    "def product_list(lst):\n",
    "    l_new = []\n",
    "    for i in lst:\n",
    "        if type(i) == int:\n",
    "            l_new.append(i)\n",
    "        \n",
    "        elif type(i) == list or type(i) == tuple or type(i) == set:\n",
    "            for j in i:\n",
    "                if type(j) == int:\n",
    "                    l_new.append(j)\n",
    "        \n",
    "        elif type(i) == dict:\n",
    "            for j in i.keys():\n",
    "                if type(j) == int:\n",
    "                    l_new.append(j)\n",
    "            for j in i.values():\n",
    "                if type(j) == int:\n",
    "                    l_new.append(j)\n",
    "                elif type(j) == list or type(j) == tuple or type(j) == set:\n",
    "                    for k in j:\n",
    "                        if type(k) == int:\n",
    "                            l_new.append(k)\n",
    "    product = 1                \n",
    "    for i in l_new:\n",
    "        product *= i\n",
    "        \n",
    "    return product\n",
    "        \n",
    "        "
   ]
  },
  {
   "cell_type": "code",
   "execution_count": 30,
   "id": "fc27f275-421d-49f1-8a95-c6012f0cd38c",
   "metadata": {},
   "outputs": [
    {
     "name": "stdout",
     "output_type": "stream",
     "text": [
      "Product of numbers from list =  4134711838987085478833841242112000\n"
     ]
    }
   ],
   "source": [
    "list1 = [1,2,3,4, [44,55,66, True], False, (34,56,78,89,34), {1,2,3,3,2,1}, {1:34, \"key2\": [55, 67, 78, 89], 4: (45, 22, 61, 34)}, [56, 'data science'], 'Machine Learning']\n",
    "print(\"Product of numbers from list = \",product_list(list1))"
   ]
  },
  {
   "cell_type": "markdown",
   "id": "d5ff3af8-335f-4bf9-a73b-3f1140d5dcb2",
   "metadata": {},
   "source": [
    "### Q2. Write a python program for encrypting a message sent to you by your friend. The logic of encryption should be such that, for a the output should be z. For b, the output should be y. For c, the output should be x respectively. Also, the whitespace should be replaced with a dollar sign. Keep the punctuation marks unchanged.\n",
    "### Input Sentence: I want to become a Data Scientist.\n",
    "### Encrypt the above input sentence using the program you just created.\n",
    "### Note: Convert the given input sentence into lowercase before encrypting. The final output should be lowercase."
   ]
  },
  {
   "cell_type": "code",
   "execution_count": 25,
   "id": "75d40834-b226-477d-888e-14f11d03813a",
   "metadata": {},
   "outputs": [],
   "source": [
    "import string\n",
    "alphabets = list(string.ascii_lowercase)"
   ]
  },
  {
   "cell_type": "code",
   "execution_count": 26,
   "id": "73a0031b-ba58-40a5-ada9-5af85ccd48c3",
   "metadata": {},
   "outputs": [],
   "source": [
    "input_msg = \"I want to become a Data Scientist\""
   ]
  },
  {
   "cell_type": "code",
   "execution_count": 27,
   "id": "2a6a307f-f689-48f6-a21d-5ba0ae28a456",
   "metadata": {},
   "outputs": [],
   "source": [
    "input_list = list(input_msg.lower())"
   ]
  },
  {
   "cell_type": "code",
   "execution_count": 28,
   "id": "36414481-18a1-4054-a1e8-a363030d1089",
   "metadata": {},
   "outputs": [
    {
     "name": "stdout",
     "output_type": "stream",
     "text": [
      "Encrypted message =  r$dzmg$gl$yvxlnv$z$wzgz$hxrvmgrhg\n"
     ]
    }
   ],
   "source": [
    "output_msg = []\n",
    "\n",
    "for i in input_list:\n",
    "    if i in alphabets:\n",
    "        index = alphabets.index(i)\n",
    "        output_msg.append(alphabets[25-index])\n",
    "    \n",
    "    elif i == \" \":\n",
    "        output_msg.append(\"$\")\n",
    "    \n",
    "    else:\n",
    "        output_msg.append(i)\n",
    "        \n",
    "encrypted_msg = ''.join(i for i in output_msg)\n",
    "print(\"Encrypted message = \",encrypted_msg)"
   ]
  },
  {
   "cell_type": "code",
   "execution_count": null,
   "id": "fbbe57d5-2beb-4503-8f5a-321631c6cc91",
   "metadata": {},
   "outputs": [],
   "source": []
  }
 ],
 "metadata": {
  "kernelspec": {
   "display_name": "Python 3 (ipykernel)",
   "language": "python",
   "name": "python3"
  },
  "language_info": {
   "codemirror_mode": {
    "name": "ipython",
    "version": 3
   },
   "file_extension": ".py",
   "mimetype": "text/x-python",
   "name": "python",
   "nbconvert_exporter": "python",
   "pygments_lexer": "ipython3",
   "version": "3.10.8"
  }
 },
 "nbformat": 4,
 "nbformat_minor": 5
}
