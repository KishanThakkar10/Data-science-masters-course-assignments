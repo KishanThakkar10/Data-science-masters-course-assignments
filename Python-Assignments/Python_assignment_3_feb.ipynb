{
 "cells": [
  {
   "cell_type": "markdown",
   "id": "f3e6855e-b344-46b7-a142-edb2c54ff433",
   "metadata": {},
   "source": [
    "# Assignment - Functions (3 feb 2023)"
   ]
  },
  {
   "cell_type": "markdown",
   "id": "11d9ea79-9883-4854-9a80-1284c2ae73d9",
   "metadata": {},
   "source": [
    "### Q1. Which keyword is used to create a function? Create a function to return a list of odd numbers in the range of 1 to 25."
   ]
  },
  {
   "cell_type": "markdown",
   "id": "fb278646-d862-46a7-8704-3614b6cb1e03",
   "metadata": {},
   "source": [
    "The keyword used to create a function in Python is indeed \"def\". Here's an example of a function that returns a list of odd numbers in the range of 1 to 25:"
   ]
  },
  {
   "cell_type": "code",
   "execution_count": 3,
   "id": "ed585053-963e-4d13-a412-e6ed3263418c",
   "metadata": {},
   "outputs": [
    {
     "name": "stdout",
     "output_type": "stream",
     "text": [
      "[1, 3, 5, 7, 9, 11, 13, 15, 17, 19, 21, 23]\n"
     ]
    }
   ],
   "source": [
    "def fun():\n",
    "    l = []\n",
    "    for i in range(1,25):\n",
    "        if i%2 != 0:\n",
    "            l.append(i)\n",
    "    return l\n",
    "\n",
    "result = fun()\n",
    "print(result)"
   ]
  },
  {
   "cell_type": "markdown",
   "id": "0b4b13b1-6d73-4c36-9211-4cd50f06aff0",
   "metadata": {},
   "source": [
    "### Q2. Why *args and **kwargs is used in some functions? Create a function each for *args and **kwargs to demonstrate their use."
   ]
  },
  {
   "cell_type": "markdown",
   "id": "f0f752c7-7466-4cc9-9287-b7526f2b1d6c",
   "metadata": {},
   "source": [
    "*args is used to Accept any number of arguments to a function. Here is an example of this"
   ]
  },
  {
   "cell_type": "code",
   "execution_count": 4,
   "id": "633351c8-631a-4215-b488-0fd6b82aa40e",
   "metadata": {},
   "outputs": [],
   "source": [
    "def test1(*args):\n",
    "    return args"
   ]
  },
  {
   "cell_type": "code",
   "execution_count": 5,
   "id": "4656f4ca-63fe-453d-b04c-4ca2d725a062",
   "metadata": {},
   "outputs": [
    {
     "data": {
      "text/plain": [
       "(1, 2, 3, 'a', 'abcd', [22, 33, 44], (12, 34, 56))"
      ]
     },
     "execution_count": 5,
     "metadata": {},
     "output_type": "execute_result"
    }
   ],
   "source": [
    "test1(1,2,3,'a','abcd',[22,33,44],(12,34,56))"
   ]
  },
  {
   "cell_type": "markdown",
   "id": "c4f26c68-05db-422d-95f1-3b1e23028f3c",
   "metadata": {},
   "source": [
    "**kwargs syntax allows you to pass a variable number of keyword arguments to a function. The **kwargs parameter collects the additional keyword arguments as a dictionary within the function. Here's an example:"
   ]
  },
  {
   "cell_type": "code",
   "execution_count": 6,
   "id": "48ba219f-d42f-44c7-9f50-b4b6d5bcc55c",
   "metadata": {},
   "outputs": [],
   "source": [
    "def test2(**kwargs):\n",
    "    return kwargs"
   ]
  },
  {
   "cell_type": "code",
   "execution_count": 7,
   "id": "1c181cc0-9b23-4770-9b7a-2eee7fcd02d0",
   "metadata": {},
   "outputs": [
    {
     "data": {
      "text/plain": [
       "{'a': 34, 'b': 23, 'c': [1, 2, 3, 4], 'd': ('kishan', 'pwskills')}"
      ]
     },
     "execution_count": 7,
     "metadata": {},
     "output_type": "execute_result"
    }
   ],
   "source": [
    "test2(a = 34 , b = 23 , c = [1,2,3,4] , d = (\"kishan\" , \"pwskills\"))"
   ]
  },
  {
   "cell_type": "markdown",
   "id": "eb6036ea-d597-4d62-874e-ead6be0f6c7f",
   "metadata": {},
   "source": [
    "### Q3. What is an iterator in python? Name the method used to initialise the iterator object and the method used for iteration. Use these methods to print the first five elements of the given list [2, 4, 6, 8, 10, 12, 14, 16, 18, 20]."
   ]
  },
  {
   "cell_type": "markdown",
   "id": "6fb599e2-a1d4-47f8-8957-aaf92a7615d5",
   "metadata": {},
   "source": [
    "In Python, an iterator is an object that implements the iterator protocol, which consists of the __iter__() method for initializing the iterator object and the __next__() method for iterating over the elements. The __iter__() method is responsible for returning the iterator object itself, and the __next__() method retrieves the next element from the iterator.\n",
    "\n",
    "To print the first five elements of the given list [2, 4, 6, 8, 10, 12, 14, 16, 18, 20] using an iterator, you can follow this code:"
   ]
  },
  {
   "cell_type": "code",
   "execution_count": 8,
   "id": "9c07b91a-3360-4df0-83aa-23cbd7bdd655",
   "metadata": {},
   "outputs": [
    {
     "name": "stdout",
     "output_type": "stream",
     "text": [
      "2\n",
      "4\n",
      "6\n",
      "8\n",
      "10\n"
     ]
    }
   ],
   "source": [
    "my_list = [2, 4, 6, 8, 10, 12, 14, 16, 18, 20]\n",
    "\n",
    "# Initialize the iterator object\n",
    "my_iterator = iter(my_list)\n",
    "\n",
    "# Iterate and print the first five elements\n",
    "for _ in range(5):\n",
    "    element = next(my_iterator)\n",
    "    print(element)\n"
   ]
  },
  {
   "cell_type": "markdown",
   "id": "5b40394d-a1ed-42bd-a1b0-ea5abffa15b5",
   "metadata": {},
   "source": [
    "### Q4. What is a generator function in python? Why yield keyword is used? Give an example of a generator function."
   ]
  },
  {
   "cell_type": "markdown",
   "id": "327536dc-1506-4fdf-affe-a05b36222c53",
   "metadata": {},
   "source": [
    "In Python, a generator function is a special type of function that generates a sequence of values using the yield keyword. It allows you to create iterators in a more concise and memory-efficient manner. Instead of returning a single value like a regular function, a generator function yields a sequence of values one at a time, pausing and resuming its execution in between each yield statement.\n",
    "\n",
    "The yield keyword is used in a generator function to specify the values that should be yielded or returned one at a time. When a generator function is called, it returns a generator object that can be iterated over using a loop or other iterator-related operations. Each time the yield statement is encountered during iteration, the generator function pauses its execution, yields the specified value, and later resumes from where it left off.\n",
    "\n",
    "Here's an example of a generator function that generates a sequence of square numbers:"
   ]
  },
  {
   "cell_type": "code",
   "execution_count": 9,
   "id": "dd6858ca-8337-4c38-9862-1965f9e7a7ed",
   "metadata": {},
   "outputs": [
    {
     "name": "stdout",
     "output_type": "stream",
     "text": [
      "0\n",
      "1\n",
      "4\n",
      "9\n",
      "16\n"
     ]
    }
   ],
   "source": [
    "def square_generator(n):\n",
    "    for i in range(n):\n",
    "        yield i ** 2\n",
    "\n",
    "my_generator = square_generator(5)\n",
    "\n",
    "for num in my_generator:\n",
    "    print(num)\n"
   ]
  },
  {
   "cell_type": "markdown",
   "id": "62ebfee5-fa4f-4d6c-bb2c-9a346db1202b",
   "metadata": {},
   "source": [
    "### Q5. Create a generator function for prime numbers less than 1000. Use the next() method to print the first 20 prime numbers."
   ]
  },
  {
   "cell_type": "code",
   "execution_count": 10,
   "id": "7d8a752b-0145-4d26-b7e2-d4ab7d10ec34",
   "metadata": {},
   "outputs": [
    {
     "name": "stdout",
     "output_type": "stream",
     "text": [
      "2\n",
      "3\n",
      "5\n",
      "7\n",
      "11\n",
      "13\n",
      "17\n",
      "19\n",
      "23\n",
      "29\n",
      "31\n",
      "37\n",
      "41\n",
      "43\n",
      "47\n",
      "53\n",
      "59\n",
      "61\n",
      "67\n",
      "71\n"
     ]
    }
   ],
   "source": [
    "def prime_generator():\n",
    "    primes = []\n",
    "    num = 2\n",
    "    while True:\n",
    "        if all(num % p != 0 for p in primes):\n",
    "            primes.append(num)\n",
    "            yield num\n",
    "        num += 1\n",
    "\n",
    "# Using the generator function\n",
    "my_generator = prime_generator()\n",
    "\n",
    "# Printing the first 20 prime numbers using next()\n",
    "for _ in range(20):\n",
    "    prime = next(my_generator)\n",
    "    print(prime)\n"
   ]
  },
  {
   "cell_type": "code",
   "execution_count": null,
   "id": "763bc976-b243-4f4e-a3c8-e73d6096e529",
   "metadata": {},
   "outputs": [],
   "source": []
  }
 ],
 "metadata": {
  "kernelspec": {
   "display_name": "Python 3 (ipykernel)",
   "language": "python",
   "name": "python3"
  },
  "language_info": {
   "codemirror_mode": {
    "name": "ipython",
    "version": 3
   },
   "file_extension": ".py",
   "mimetype": "text/x-python",
   "name": "python",
   "nbconvert_exporter": "python",
   "pygments_lexer": "ipython3",
   "version": "3.10.8"
  }
 },
 "nbformat": 4,
 "nbformat_minor": 5
}
