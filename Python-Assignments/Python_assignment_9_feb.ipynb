{
 "cells": [
  {
   "cell_type": "markdown",
   "id": "0371be98-2970-48e7-9b97-7b2acef284e1",
   "metadata": {},
   "source": [
    "# Assignment - Oops task (9 feb 2023)"
   ]
  },
  {
   "cell_type": "markdown",
   "id": "9ea98f04-eea2-4266-8a2b-da6d275669af",
   "metadata": {},
   "source": [
    "### Q1. Create a vehicle class with an init method having instance variables as name_of_vehicle, max_speed and average_of_vehicle."
   ]
  },
  {
   "cell_type": "code",
   "execution_count": 2,
   "id": "b3b05885-70e1-4b12-8a7a-5932d8c4e7f4",
   "metadata": {},
   "outputs": [
    {
     "name": "stdout",
     "output_type": "stream",
     "text": [
      "Car\n",
      "180\n",
      "22\n",
      "Motorcycle\n",
      "120\n",
      "35\n"
     ]
    }
   ],
   "source": [
    "class Vehicle:\n",
    "    def __init__(self, name_of_vehicle, max_speed, average_of_vehicle):\n",
    "        self.name_of_vehicle = name_of_vehicle\n",
    "        self.max_speed = max_speed\n",
    "        self.average_of_vehicle = average_of_vehicle\n",
    "\n",
    "vehicle1 = Vehicle(\"Car\", 180, 22)\n",
    "print(vehicle1.name_of_vehicle)\n",
    "print(vehicle1.max_speed) \n",
    "print(vehicle1.average_of_vehicle) \n",
    "\n",
    "vehicle2 = Vehicle(\"Motorcycle\", 120, 35)\n",
    "print(vehicle2.name_of_vehicle) \n",
    "print(vehicle2.max_speed)  \n",
    "print(vehicle2.average_of_vehicle) \n"
   ]
  },
  {
   "cell_type": "markdown",
   "id": "c10f28aa-faf5-4109-8c1e-24710439f2bc",
   "metadata": {},
   "source": [
    "### Q2. Create a child class car from the vehicle class created in Que 1, which will inherit the vehicle class. Create a method named seating_capacity which takes capacity as an argument and returns the name of the vehicle and its seating capacity."
   ]
  },
  {
   "cell_type": "code",
   "execution_count": 3,
   "id": "50ac8fac-db3b-493d-8dcb-99e7cce517d2",
   "metadata": {},
   "outputs": [
    {
     "name": "stdout",
     "output_type": "stream",
     "text": [
      "Sedan has a seating capacity of 5.\n",
      "SUV has a seating capacity of 7.\n"
     ]
    }
   ],
   "source": [
    "class Car(Vehicle):\n",
    "    def seating_capacity(self, capacity):\n",
    "        return f\"{self.name_of_vehicle} has a seating capacity of {capacity}.\"\n",
    "\n",
    "car1 = Car(\"Sedan\", 200, 40)\n",
    "print(car1.seating_capacity(5))\n",
    "\n",
    "car2 = Car(\"SUV\", 180, 35)\n",
    "print(car2.seating_capacity(7)) \n"
   ]
  },
  {
   "cell_type": "markdown",
   "id": "158d328a-fd35-4ea7-8725-7d104a30b241",
   "metadata": {},
   "source": [
    "### Q3. What is multiple inheritance? Write a python code to demonstrate multiple inheritance."
   ]
  },
  {
   "cell_type": "markdown",
   "id": "44314f7d-4cf9-4b02-b975-f7e320822614",
   "metadata": {},
   "source": [
    "Multiple inheritance allows a subclass to inherit properties from multiple superclasses. It enables a class to inherit characteristics from different sources. Here's the python code to demonstrate multiple inheritance."
   ]
  },
  {
   "cell_type": "code",
   "execution_count": 5,
   "id": "a1f6cbad-669c-4163-84bc-baa057de30fd",
   "metadata": {},
   "outputs": [],
   "source": [
    "class class1:\n",
    "    def test_class1(self) : \n",
    "        print(\"this is my class 1\" )\n",
    "        \n",
    "class class2 :\n",
    "    def test_class2(self) : \n",
    "        print(\"this is my class 2\")  \n",
    "\n",
    "class class3 (class1 , class2) : \n",
    "    pass\n",
    "\n",
    "obj_class3 = class3()\n"
   ]
  },
  {
   "cell_type": "code",
   "execution_count": 6,
   "id": "b01aae4e-ca20-4ed4-a750-776c5fc4be15",
   "metadata": {},
   "outputs": [
    {
     "name": "stdout",
     "output_type": "stream",
     "text": [
      "this is my class 1\n"
     ]
    }
   ],
   "source": [
    "obj_class3.test_class1()"
   ]
  },
  {
   "cell_type": "code",
   "execution_count": 7,
   "id": "08f625b9-9bc4-4549-85ea-0cf76e369d07",
   "metadata": {},
   "outputs": [
    {
     "name": "stdout",
     "output_type": "stream",
     "text": [
      "this is my class 2\n"
     ]
    }
   ],
   "source": [
    "obj_class3.test_class2()"
   ]
  },
  {
   "cell_type": "markdown",
   "id": "d5c5057f-8e1d-474b-94e8-4d0213768476",
   "metadata": {},
   "source": [
    "### Q4. What are getter and setter in python? Create a class and create a getter and a setter method in this class."
   ]
  },
  {
   "cell_type": "markdown",
   "id": "3a35c565-05c7-4f44-90ef-e17275714660",
   "metadata": {},
   "source": [
    "In Python, getters and setters are methods used to access (get) and modify (set) the values of class attributes, respectively. They provide controlled access to the attributes and allow for validation, encapsulation, and flexibility in managing attribute values.\n",
    "\n",
    "Here's an example of a class called Person that includes getter and setter methods for the age attribute:"
   ]
  },
  {
   "cell_type": "code",
   "execution_count": 9,
   "id": "96fc84c1-d875-44c9-89db-9d49725242d0",
   "metadata": {},
   "outputs": [
    {
     "name": "stdout",
     "output_type": "stream",
     "text": [
      "22\n"
     ]
    }
   ],
   "source": [
    "class Person:\n",
    "    def __init__(self, name, age):\n",
    "        self.name = name\n",
    "        self._age = age\n",
    "\n",
    "    def get_age(self):\n",
    "        return self._age\n",
    "\n",
    "    def set_age(self, new_age):\n",
    "        if new_age >= 0:\n",
    "            self._age = new_age\n",
    "        else:\n",
    "            print(\"Invalid age value.\")\n",
    "\n",
    "person = Person(\"Kishan\", 22)\n",
    "print(person.get_age())"
   ]
  },
  {
   "cell_type": "code",
   "execution_count": 10,
   "id": "59257c3e-cf6e-471c-9c1a-3ba9f845f1cb",
   "metadata": {},
   "outputs": [
    {
     "name": "stdout",
     "output_type": "stream",
     "text": [
      "30\n"
     ]
    }
   ],
   "source": [
    "person.set_age(30)\n",
    "print(person.get_age())"
   ]
  },
  {
   "cell_type": "code",
   "execution_count": 11,
   "id": "acd4f006-ba5f-40a0-a013-621c8f393ad7",
   "metadata": {},
   "outputs": [
    {
     "name": "stdout",
     "output_type": "stream",
     "text": [
      "Invalid age value.\n"
     ]
    }
   ],
   "source": [
    "person.set_age(-5)"
   ]
  },
  {
   "cell_type": "markdown",
   "id": "a42491bf-a6d2-499e-be07-5aeff9b7f306",
   "metadata": {},
   "source": [
    "### Q5.What is method overriding in python? Write a python code to demonstrate method overriding."
   ]
  },
  {
   "cell_type": "code",
   "execution_count": null,
   "id": "2e52bd40-f92f-4779-9460-ef314c6d5f41",
   "metadata": {},
   "outputs": [],
   "source": []
  }
 ],
 "metadata": {
  "kernelspec": {
   "display_name": "Python 3 (ipykernel)",
   "language": "python",
   "name": "python3"
  },
  "language_info": {
   "codemirror_mode": {
    "name": "ipython",
    "version": 3
   },
   "file_extension": ".py",
   "mimetype": "text/x-python",
   "name": "python",
   "nbconvert_exporter": "python",
   "pygments_lexer": "ipython3",
   "version": "3.10.8"
  }
 },
 "nbformat": 4,
 "nbformat_minor": 5
}
