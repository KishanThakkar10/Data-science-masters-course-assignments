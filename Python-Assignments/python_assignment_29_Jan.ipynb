{
 "cells": [
  {
   "cell_type": "markdown",
   "id": "19f471b8-7e92-4132-be0e-b3ff41270c03",
   "metadata": {},
   "source": [
    "# Assignment - (29 Jan 23)"
   ]
  },
  {
   "cell_type": "markdown",
   "id": "0ee99cf4-c12f-457c-ab8d-c9c7715dc5f6",
   "metadata": {},
   "source": [
    "### 1. Who Developed the python programming language?\n",
    "\n",
    "The Python programming language was developed by Guido van Rossum."
   ]
  },
  {
   "cell_type": "markdown",
   "id": "be612885-0b7b-4e71-911a-de9dd3e4f5c7",
   "metadata": {},
   "source": [
    "### 2. Which type of programming does python support?\n",
    "\n",
    "Python supports multiple programming paradigms, including\n",
    "- Procedural Programming\n",
    "- Object-Oriented Programming (OOP)\n",
    "- Functional Programming\n",
    "- Imperative Programming\n",
    "- Dynamic Programming\n",
    "- Scripting"
   ]
  },
  {
   "cell_type": "markdown",
   "id": "2ebe4779-b666-49e8-b1b5-57554866573a",
   "metadata": {},
   "source": [
    "### 3. Is python case sensitive when dealing with identifier?\n",
    "\n",
    "Yes, Python is case-sensitive when dealing with identifiers."
   ]
  },
  {
   "cell_type": "markdown",
   "id": "3354d9c0-218f-419c-b198-120d510a8b76",
   "metadata": {},
   "source": [
    "### 4. what is the correct extension of python file?\n",
    "\n",
    "The correct extension for a Python file is \".py\"."
   ]
  },
  {
   "cell_type": "markdown",
   "id": "1037f263-2b36-4d3f-9ac2-17c1285866c9",
   "metadata": {},
   "source": [
    "### 5. is python code compiled or interpreted ?\n",
    "\n",
    "Python code is typically interpreted. When you run a Python script, the Python interpreter reads and executes the code line by line without prior compilation into machine code. However, Python does perform a compilation step internally. It compiles the source code into bytecode, which is a lower-level representation that the interpreter can execute. This compilation step happens automatically and transparently to the user. Therefore, Python is often referred to as an interpreted language due to its dynamic and interactive nature."
   ]
  },
  {
   "cell_type": "markdown",
   "id": "1ea5103a-4f2d-4f7a-a5eb-37c23c4157a0",
   "metadata": {},
   "source": [
    "### 6. Name a few blocks of code used to define in Python language?\n",
    "\n",
    "Here are names of few common blocks of code used in Python:\n",
    "- Function Definition:\n",
    "- Conditional Statements (if, elif, else)\n",
    "- Looping Constructs (for, while)\n",
    "- Exception Handling (try, except, finally)"
   ]
  },
  {
   "cell_type": "markdown",
   "id": "542f7367-1225-4683-80de-b5437595cda3",
   "metadata": {},
   "source": [
    "### 7. State a character used to give single-line comments in Python?\n",
    "\n",
    "'#' is used to give single line comment in python"
   ]
  },
  {
   "cell_type": "markdown",
   "id": "ed349480-c8ac-4921-9ca7-cf4aa928a38d",
   "metadata": {},
   "source": [
    "### 8. Mention functions which can help us to find the version of python that we are currently working on?\n",
    "\n",
    "To find the version of Python that you are currently working on, you can use the following functions:\n",
    "- sys.version\n",
    "- sys.version_info\n",
    "- platform.python_version()"
   ]
  },
  {
   "cell_type": "markdown",
   "id": "b2006911-465e-480a-a26c-7830df3cdf93",
   "metadata": {},
   "source": [
    "### 9. Python supports the creation of anonymous functions at runtime, using a construct called ______\n",
    "\n",
    "Python supports the creation of anonymous functions at runtime, using a construct called lambda"
   ]
  },
  {
   "cell_type": "markdown",
   "id": "afcf84b8-6ba6-42ca-87d6-7e276b7276fc",
   "metadata": {},
   "source": [
    "### 10. What does pip stand for python?\n",
    "\n",
    "The term \"pip\" stands for \"pip installs packages\" or sometimes referred to as \"Preferred Installer Program.\""
   ]
  },
  {
   "cell_type": "markdown",
   "id": "ba3b9114-5288-4258-9d9e-4d3b61ddfcf8",
   "metadata": {},
   "source": [
    "### 11. Mention a few built- in functions in python?\n",
    "\n",
    "Here are a few commonly used built-in functions in Python:\n",
    "\n",
    "- print(): Outputs text or variables to the console.\n",
    "- len(): Returns the length (number of elements) of an object, such as a string, list, or tuple.\n",
    "- input(): Accepts user input from the console.\n",
    "- type(): Returns the type of an object.\n",
    "- int(): Converts a value to an integer.\n",
    "- float(): Converts a value to a floating-point number.\n",
    "- str(): Converts a value to a string.\n",
    "- range(): Generates a sequence of numbers.\n",
    "- list(): Creates a list from an iterable object.\n",
    "- dict(): Creates a dictionary from a sequence of key-value pairs.\n",
    "- set(): Creates a set from an iterable object.\n",
    "- max(): Returns the maximum value from a sequence or multiple arguments.\n",
    "- min(): Returns the minimum value from a sequence or multiple arguments.\n",
    "- sum(): Calculates the sum of a sequence of numbers.\n",
    "- range(): Generates a sequence of numbers within a specified range."
   ]
  },
  {
   "cell_type": "markdown",
   "id": "df522f24-4c35-4048-86f4-261788456210",
   "metadata": {},
   "source": [
    "### 12. What is the maximum possible length of an identifier in Python?\n",
    "\n",
    "79 characters"
   ]
  },
  {
   "cell_type": "markdown",
   "id": "3509bf0d-b703-4e4b-b595-b4be84e8f27e",
   "metadata": {},
   "source": [
    "### 13. What are the benefits of using Python?\n",
    "\n",
    "There are several benefits of using Python as a programming language:\n",
    "- Readability and simplicity\n",
    "- Versatility and portability\n",
    "- Rich ecosystem and libraries\n",
    "- Integration and interoperability\n",
    "- Productivity and rapid development\n",
    "- Community and support\n",
    "- Scalability and performance"
   ]
  },
  {
   "cell_type": "markdown",
   "id": "e1df9f17-429b-4078-9482-d934428ba4f7",
   "metadata": {},
   "source": [
    "### 14. How is memory managed in Python?\n",
    "\n",
    "Memory in Python is managed automatically through techniques such as reference counting and garbage collection. Python's memory manager handles memory allocation and deallocation, while the garbage collector identifies and collects objects that are no longer reachable. The process is transparent to developers, relieving them from explicit memory management."
   ]
  },
  {
   "cell_type": "markdown",
   "id": "25b57e5c-7210-4e5b-aace-a07e1da53c44",
   "metadata": {},
   "source": [
    "### 15. How to install Python on Windows and set path variables?\n",
    "\n",
    "To install Python on Windows and set the path variables, you can follow these steps:\n",
    "\n",
    "1. Download Python: Visit the official Python website (https://www.python.org) and navigate to the Downloads section. Choose the latest version of Python for Windows and select the appropriate installer based on your system architecture (32-bit or 64-bit).\n",
    "\n",
    "2. Run the Installer: Double-click the downloaded installer to run it. Check the box that says \"Add Python to PATH\" during the installation process. This will automatically set the necessary environment variables.\n",
    "\n",
    "3. Customize Installation (Optional): You can customize the installation location and features by clicking on the \"Customize installation\" button. However, it's generally recommended to proceed with the default settings.\n",
    "\n",
    "4. Complete the Installation: Follow the instructions provided by the installer and complete the installation process. Python will be installed on your system.\n",
    "\n",
    "5. Verify the Installation: Open the command prompt or PowerShell and enter the following command: python --version. This command will display the installed Python version if the installation was successful.\n",
    "\n",
    "6. Set PATH Variables (If Not Set Automatically): In some cases, the PATH variables may not be set automatically. To set them manually, follow these steps:\n",
    "\n",
    " - Open the Start menu and search for \"Environment Variables\" and select \"Edit the system environment variables\".\n",
    " - In the System Properties window, click on the \"Environment Variables\" button.\n",
    " - In the \"System variables\" section, scroll down and find the \"Path\" variable. Select it and click the \"Edit\" button.\n",
    " - Click the \"New\" button and enter the path to the Python installation directory. By default, it is \"C:\\PythonXX\" (where XX represents the version number).\n",
    " - Click \"OK\" to save the changes and close all the windows.\n",
    "7. Verify Path Variables. If the Python version is displayed, the path variables are set correctly.\n",
    "\n",
    "By following these steps, you can install Python on Windows and ensure that the necessary path variables are set, allowing you to run Python from any location in the command prompt or PowerShell."
   ]
  },
  {
   "cell_type": "markdown",
   "id": "9619c12e-1932-47ab-9bad-c84d191d3daa",
   "metadata": {},
   "source": [
    "### 16. Is indentation is required for the python?\n",
    "\n",
    "Yes, indentation is required in Python. Indentation is not just for formatting purposes but is a fundamental part of the Python syntax. It is used to define code blocks and determine the grouping and hierarchy of statements. The Python interpreter relies on proper indentation to understand the structure and flow of the code."
   ]
  }
 ],
 "metadata": {
  "kernelspec": {
   "display_name": "Python 3 (ipykernel)",
   "language": "python",
   "name": "python3"
  },
  "language_info": {
   "codemirror_mode": {
    "name": "ipython",
    "version": 3
   },
   "file_extension": ".py",
   "mimetype": "text/x-python",
   "name": "python",
   "nbconvert_exporter": "python",
   "pygments_lexer": "ipython3",
   "version": "3.10.8"
  }
 },
 "nbformat": 4,
 "nbformat_minor": 5
}
