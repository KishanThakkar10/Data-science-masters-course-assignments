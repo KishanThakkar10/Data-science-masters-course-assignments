{
 "cells": [
  {
   "cell_type": "markdown",
   "id": "a0487455-0d3f-4096-9f1b-f37ce6483b46",
   "metadata": {},
   "source": [
    "# Assignment - Oops (5 feb 2023)"
   ]
  },
  {
   "cell_type": "markdown",
   "id": "77f2e9e6-0619-4ba9-a0f9-7a7d37ace2a7",
   "metadata": {},
   "source": [
    "### Q1. Explain Class and Object with respect to Object-Oriented Programming. Give a suitable example."
   ]
  },
  {
   "cell_type": "markdown",
   "id": "61377cfd-3797-4ac7-9969-0ef4e9d396fa",
   "metadata": {},
   "source": [
    "In object-oriented programming (OOP), a class is a blueprint or a template that defines the structure and behavior of objects. It represents a collection of attributes (data) and methods (functions) that characterize a particular type of object. Objects, on the other hand, are instances of a class. They are created from the class blueprint and represent individual entities that can have their own unique states and behaviors.\n",
    "\n",
    "To illustrate this concept, let's consider an example of a class called \"Car\" in Python:"
   ]
  },
  {
   "cell_type": "code",
   "execution_count": 2,
   "id": "7a777675-4336-4e86-85c5-65c116665b96",
   "metadata": {},
   "outputs": [],
   "source": [
    "class Car:\n",
    "    def __init__(self, brand, model, year):\n",
    "        self.brand = brand\n",
    "        self.model = model\n",
    "        self.year = year\n",
    "\n",
    "    def start_engine(self):\n",
    "        print(\"The engine has started.\")\n",
    "\n",
    "    def stop_engine(self):\n",
    "        print(\"The engine has stopped.\")\n",
    "\n",
    "    def drive(self, distance):\n",
    "        print(f\"The car is driving for {distance} kilometers.\")\n"
   ]
  },
  {
   "cell_type": "markdown",
   "id": "c37d04d8-2daf-47aa-8f12-2a912ee44759",
   "metadata": {},
   "source": [
    "In this example, the \"Car\" class serves as a blueprint for creating car objects. It has attributes like \"brand,\" \"model,\" and \"year,\" which define the state of a car. The class also has methods like \"start_engine,\" \"stop_engine,\" and \"drive,\" which define the behaviors or actions a car can perform.\n",
    "\n",
    "Now, we can create individual car objects based on this class:"
   ]
  },
  {
   "cell_type": "code",
   "execution_count": 3,
   "id": "8c5d63f8-7df3-4f64-81f7-2939fe8e93ea",
   "metadata": {},
   "outputs": [],
   "source": [
    "car1 = Car(\"Toyota\", \"innova\", 2021)\n",
    "car2 = Car(\"Suzuki\", \"fronx\", 2022)\n"
   ]
  },
  {
   "cell_type": "code",
   "execution_count": 4,
   "id": "24d01120-8c78-4f59-9258-04e93c06a347",
   "metadata": {},
   "outputs": [
    {
     "name": "stdout",
     "output_type": "stream",
     "text": [
      "Toyota\n",
      "fronx\n",
      "The engine has started.\n",
      "The car is driving for 50 kilometers.\n"
     ]
    }
   ],
   "source": [
    "print(car1.brand) \n",
    "print(car2.model) \n",
    "\n",
    "car1.start_engine() \n",
    "car2.drive(50)"
   ]
  },
  {
   "cell_type": "markdown",
   "id": "9d65abee-3e9a-4de4-a528-fa1b4cf96c60",
   "metadata": {},
   "source": [
    "### Q2. Name the four pillars of OOPs."
   ]
  },
  {
   "cell_type": "markdown",
   "id": "3df395a3-0dde-4440-8972-db40770e1bbb",
   "metadata": {},
   "source": [
    "The four pillars of OOP are:\n",
    "\n",
    "- Encapsulation\n",
    "- Inheritance\n",
    "- Polymorphism\n",
    "- Abstraction"
   ]
  },
  {
   "cell_type": "markdown",
   "id": "a54f702c-60f9-401c-aa40-33d8f568efb7",
   "metadata": {},
   "source": [
    "### Q3. Explain why the __init__() function is used. Give a suitable example."
   ]
  },
  {
   "cell_type": "markdown",
   "id": "e054bc6f-ab1f-4720-816f-c8353bbef746",
   "metadata": {},
   "source": [
    "The __init__() function in Python is a special method (also known as a constructor) that is automatically called when an object of a class is created. It is used to initialize the attributes (data) of the object and perform any necessary setup or initialization.\n",
    "\n",
    "The primary purpose of the __init__() function is to ensure that the object is in a valid and consistent state when it is created. It allows us to set initial values for the object's attributes, which define its state. By providing default or user-defined values for the attributes, we can customize the object's initial state.\n",
    "\n",
    "Here's an example that demonstrates the usage of the __init__() function:"
   ]
  },
  {
   "cell_type": "code",
   "execution_count": 6,
   "id": "e6af5d6b-e014-4503-a004-8ff1c635f055",
   "metadata": {},
   "outputs": [],
   "source": [
    "class pwskills1:\n",
    "    \n",
    "    def __init__(self,p_no,e_id,s_id): \n",
    "        self.p_no = p_no              \n",
    "        self.e_id = e_id\n",
    "        self.s_id = s_id\n",
    "        \n",
    "    def return_details(self):\n",
    "        return self.p_no, self.e_id, self.s_id"
   ]
  },
  {
   "cell_type": "code",
   "execution_count": 9,
   "id": "47e7d71a-7a67-41de-bf12-8932e63b2c2f",
   "metadata": {},
   "outputs": [],
   "source": [
    "kishan = pwskills1(98987, 'rohan@gmail.com' , 10)"
   ]
  },
  {
   "cell_type": "code",
   "execution_count": 10,
   "id": "d49ae611-b71d-485d-9900-38b5ab533d50",
   "metadata": {},
   "outputs": [
    {
     "data": {
      "text/plain": [
       "98987"
      ]
     },
     "execution_count": 10,
     "metadata": {},
     "output_type": "execute_result"
    }
   ],
   "source": [
    "kishan.p_no"
   ]
  },
  {
   "cell_type": "code",
   "execution_count": 11,
   "id": "0c7a38c4-afe9-41bd-b57f-6629ce2375b6",
   "metadata": {},
   "outputs": [
    {
     "data": {
      "text/plain": [
       "(98987, 'rohan@gmail.com', 10)"
      ]
     },
     "execution_count": 11,
     "metadata": {},
     "output_type": "execute_result"
    }
   ],
   "source": [
    "kishan.return_details()"
   ]
  },
  {
   "cell_type": "markdown",
   "id": "75691d95-1ecf-4034-b518-ea66535300d2",
   "metadata": {},
   "source": [
    "### Q4. Why self is used in OOPs?"
   ]
  },
  {
   "cell_type": "markdown",
   "id": "c2c60e52-660f-4b8e-9fe0-080a16990122",
   "metadata": {},
   "source": [
    "In object-oriented programming (OOP), the self keyword is used as a convention to refer to the instance (object) of a class within the class's methods. It is a way to access and manipulate the attributes and methods of the object itself.\n",
    "\n",
    "When a method is defined within a class, the self parameter is typically the first parameter passed to the method. By convention, it is named self, although you can use any valid variable name. The self parameter represents the instance of the class on which the method is being called.\n",
    "\n",
    "Here are a few reasons why self is used in OOP:\n",
    "\n",
    "- Accessing object attributes: By using self, you can access the attributes (data) of the object within the class's methods. It allows you to refer to the specific instance's attributes, ensuring that the correct values are retrieved or modified.\n",
    "\n",
    "- Invoking other object methods: Using self, you can invoke other methods of the class within a method. It allows you to call other functions associated with the same instance, enabling interactions and coordination between different methods.\n",
    "\n",
    "- Differentiating between instance and local variables: The use of self helps differentiate instance variables (attributes) from local variables within a method. By using self.attribute_name, you explicitly refer to the instance attribute, avoiding confusion with similarly named local variables.\n",
    "\n",
    "- Supporting method chaining: When multiple methods need to be called in succession on the same object, the self keyword enables method chaining. Each method returns the self object, allowing subsequent methods to be called directly on the same object.\n",
    "\n",
    "Overall, the self parameter is essential in OOP to maintain proper encapsulation, access object-specific attributes, and enable interactions between methods and attributes of the same instance. It helps ensure that the behavior and state of each object are handled correctly within the class."
   ]
  },
  {
   "cell_type": "markdown",
   "id": "ac698fd5-47f5-4b04-a74f-5c2c4b0653d9",
   "metadata": {},
   "source": [
    "### Q5. What is inheritance? Give an example for each type of inheritance."
   ]
  },
  {
   "cell_type": "markdown",
   "id": "ef1e754c-c02c-4f93-9cf7-9c22d79eb8ee",
   "metadata": {},
   "source": [
    "Inheritance is a fundamental concept in object-oriented programming (OOP) that allows a class (called a subclass or derived class) to inherit the properties (attributes and methods) of another class (called a superclass or base class). It enables code reuse, promotes the concept of hierarchy, and facilitates the creation of specialized classes based on existing ones.\n",
    "\n",
    "There are different types of inheritance in OOP, including:\n",
    "\n",
    "#### 1. Single Inheritance:\n",
    "In single inheritance, a subclass inherits properties from a single superclass. It represents a \"is-a\" relationship, where the subclass is a specialized version of the superclass. Here's an example:"
   ]
  },
  {
   "cell_type": "code",
   "execution_count": 12,
   "id": "e85289a7-5fb0-450e-afe7-ad3450bcb2b1",
   "metadata": {},
   "outputs": [],
   "source": [
    "class parent:\n",
    "    def test_parent(self):\n",
    "        print(\"This is patent class method\")"
   ]
  },
  {
   "cell_type": "code",
   "execution_count": 13,
   "id": "48715b6c-a176-4fcb-915a-1876f97aba70",
   "metadata": {},
   "outputs": [],
   "source": [
    "class child(parent):\n",
    "    pass"
   ]
  },
  {
   "cell_type": "code",
   "execution_count": 14,
   "id": "8a470846-e572-4c45-a2a1-e12a45b12e5b",
   "metadata": {},
   "outputs": [
    {
     "name": "stdout",
     "output_type": "stream",
     "text": [
      "This is patent class method\n"
     ]
    }
   ],
   "source": [
    "obj_child = child()\n",
    "obj_child.test_parent()"
   ]
  },
  {
   "cell_type": "markdown",
   "id": "e368b8a7-1cbd-40b6-851d-8164ada1d713",
   "metadata": {},
   "source": [
    "#### 2. Multiple Inheritance: \n",
    "Multiple inheritance allows a subclass to inherit properties from multiple superclasses. It enables a class to inherit characteristics from different sources. Here's an example:"
   ]
  },
  {
   "cell_type": "code",
   "execution_count": 15,
   "id": "3142626c-1f60-4604-8e32-c1107ad67c59",
   "metadata": {},
   "outputs": [],
   "source": [
    "class class1:\n",
    "    def test_class1(self) : \n",
    "        print(\"this is my class 1\" )\n",
    "        \n",
    "class class2 :\n",
    "    def test_class2(self) : \n",
    "        print(\"this is my class 2\")  \n",
    "\n",
    "class class3 (class1 , class2) : \n",
    "    pass"
   ]
  },
  {
   "cell_type": "code",
   "execution_count": 17,
   "id": "1c8b45b7-4ab1-413b-889f-98eca3e82031",
   "metadata": {},
   "outputs": [],
   "source": [
    "obj_class3 = class3()"
   ]
  },
  {
   "cell_type": "code",
   "execution_count": 18,
   "id": "977ae312-2744-44b6-9d87-092ede054bdd",
   "metadata": {},
   "outputs": [
    {
     "name": "stdout",
     "output_type": "stream",
     "text": [
      "this is my class 1\n"
     ]
    }
   ],
   "source": [
    "obj_class3.test_class1()"
   ]
  },
  {
   "cell_type": "code",
   "execution_count": 19,
   "id": "c7149ee3-36fa-4ca6-91cb-7a6dbe5cd429",
   "metadata": {},
   "outputs": [
    {
     "name": "stdout",
     "output_type": "stream",
     "text": [
      "this is my class 2\n"
     ]
    }
   ],
   "source": [
    "obj_class3.test_class2()"
   ]
  },
  {
   "cell_type": "markdown",
   "id": "819e48fc-0990-44ec-adc5-501cdf732b15",
   "metadata": {},
   "source": [
    "#### 3. Multilevel Inheritance: \n",
    "Multilevel inheritance involves creating a chain of inheritance where a subclass becomes the superclass for another subclass. It establishes a hierarchical relationship between classes. Here's an example:"
   ]
  },
  {
   "cell_type": "code",
   "execution_count": 20,
   "id": "ac37873a-786a-4e1d-8b76-3760490fbdda",
   "metadata": {},
   "outputs": [],
   "source": [
    "class class1 :\n",
    "    def test_class1(self) : \n",
    "        print(\"this is my class1 \" )\n",
    "        \n",
    "class class2(class1) : \n",
    "    def test_class2(self) : \n",
    "        print(\"this is my class2\" )\n",
    "        \n",
    "class class3(class2) : \n",
    "    def test_class3(self) : \n",
    "        print(\"this is my class3 \")"
   ]
  },
  {
   "cell_type": "code",
   "execution_count": 21,
   "id": "f70e00cc-718c-4e99-b401-24b0309bb30d",
   "metadata": {},
   "outputs": [],
   "source": [
    "obj_class3  = class3()"
   ]
  },
  {
   "cell_type": "code",
   "execution_count": 22,
   "id": "ef59eea9-8271-4833-a237-d1aa106a9048",
   "metadata": {},
   "outputs": [
    {
     "name": "stdout",
     "output_type": "stream",
     "text": [
      "this is my class1 \n"
     ]
    }
   ],
   "source": [
    "obj_class3.test_class1()"
   ]
  },
  {
   "cell_type": "code",
   "execution_count": 23,
   "id": "8a0b69fa-9462-43c7-ba81-1e832c17a46c",
   "metadata": {},
   "outputs": [
    {
     "name": "stdout",
     "output_type": "stream",
     "text": [
      "this is my class2\n"
     ]
    }
   ],
   "source": [
    "obj_class3.test_class2()"
   ]
  },
  {
   "cell_type": "code",
   "execution_count": 24,
   "id": "0c2b5e77-bc0f-44dd-a7ef-913c0be40e33",
   "metadata": {},
   "outputs": [
    {
     "name": "stdout",
     "output_type": "stream",
     "text": [
      "this is my class3 \n"
     ]
    }
   ],
   "source": [
    "obj_class3.test_class3()"
   ]
  },
  {
   "cell_type": "code",
   "execution_count": null,
   "id": "8f22b1cd-192e-4dae-abeb-bb7cd5a52a98",
   "metadata": {},
   "outputs": [],
   "source": []
  }
 ],
 "metadata": {
  "kernelspec": {
   "display_name": "Python 3 (ipykernel)",
   "language": "python",
   "name": "python3"
  },
  "language_info": {
   "codemirror_mode": {
    "name": "ipython",
    "version": 3
   },
   "file_extension": ".py",
   "mimetype": "text/x-python",
   "name": "python",
   "nbconvert_exporter": "python",
   "pygments_lexer": "ipython3",
   "version": "3.10.8"
  }
 },
 "nbformat": 4,
 "nbformat_minor": 5
}
