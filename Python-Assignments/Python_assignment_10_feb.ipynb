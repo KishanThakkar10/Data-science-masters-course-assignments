{
 "cells": [
  {
   "cell_type": "markdown",
   "id": "c050d1b3-e046-4122-bbcb-2053c5b08a08",
   "metadata": {},
   "source": [
    "# Assignment - Files (10 feb 2023)"
   ]
  },
  {
   "cell_type": "markdown",
   "id": "95e206f6-6111-4768-a796-887e32a2195d",
   "metadata": {},
   "source": [
    "### Q1. Which function is used to open a file? What are the different modes of opening a file? Explain each mode of file opening."
   ]
  },
  {
   "cell_type": "markdown",
   "id": "dd6944c6-bf0e-4a86-a1d2-8637b7a5d0d1",
   "metadata": {},
   "source": [
    "The open() function is used to open a file in Python. It takes the file path as a parameter and returns a file object that allows you to perform various operations on the file.\n",
    "\n",
    "The open() function has several modes that can be specified as the second argument. Each mode determines how the file will be opened and what operations are allowed on it. Here are the different modes of opening a file:\n",
    "\n",
    "1. \"r\" (Read Mode): This is the default mode. It opens the file for reading. If the file does not exist, it raises a FileNotFoundError. When a file is opened in read mode, you can only read the contents of the file.\n",
    "\n",
    "2. \"w\" (Write Mode): It opens the file for writing. If the file exists, its contents are truncated (emptied). If the file does not exist, a new file is created. You can write data to the file using methods like write() or writelines(). If the file is opened in write mode and already contains data, the previous data will be lost.\n",
    "\n",
    "3. \"a\" (Append Mode): It opens the file for appending data. If the file exists, the file pointer is positioned at the end of the file, allowing you to append new data. If the file does not exist, a new file is created. You can write data to the file using methods like write() or writelines(). The previous data in the file remains intact.\n",
    "\n",
    "4. \"x\" (Exclusive Creation Mode): It opens the file for exclusive creation. It creates a new file and raises a FileExistsError if the file already exists. This mode is useful when you want to ensure that a file does not exist before creating it.\n",
    "\n",
    "5. \"t\" (Text Mode): It opens the file in text mode, which is the default. In this mode, the file is treated as a text file, and strings are returned when reading from or writing to the file.\n",
    "\n",
    "6. \"b\" (Binary Mode): It opens the file in binary mode, which is used for non-text files, such as images or binary data. In this mode, data is read or written in the form of bytes.\n",
    "\n",
    "7. \"+\" (Read and Write Mode): It opens the file for both reading and writing. This mode allows you to perform both read and write operations on the file. The file pointer is initially positioned at the beginning of the file.\n",
    "\n",
    "When opening a file, you can combine different modes by specifying them as a string. For example, \"r+\" opens the file in read and write mode."
   ]
  },
  {
   "cell_type": "markdown",
   "id": "cfd3bfb7-3588-4fbd-95eb-2e4e8347e084",
   "metadata": {},
   "source": [
    "### Q2. Why close() function is used? Why is it important to close a file?"
   ]
  },
  {
   "cell_type": "markdown",
   "id": "724a37fd-f1c8-4469-880e-f1ed1222ed26",
   "metadata": {},
   "source": [
    "The close() function in Python is used to close a file that has been opened using the open() function. It is important to explicitly close a file after you are done working with it. Here's why:\n",
    "\n",
    "- Resource Management: When a file is opened, system resources are allocated to handle the file operations. This includes memory buffers, file descriptors, and other internal data structures. If you don't close the file, these resources may remain allocated, even after your program has finished using the file. Closing the file releases these resources and frees up memory, ensuring efficient resource management.\n",
    "\n",
    "- Data Integrity: When you write data to a file, it is typically buffered in memory before being physically written to disk. The close() function flushes any remaining data in the buffer and ensures that all data has been written to the file before closing it. If you don't close the file, there's a risk that some data may not be written or may be partially written, leading to data loss or corruption.\n",
    "\n",
    "- File Locking: In some operating systems, when a file is opened by a program, it may be locked to prevent other programs from modifying it simultaneously. Closing the file releases this lock, allowing other processes or programs to access and modify the file if needed.\n",
    "\n",
    "- Good Programming Practice: Closing a file explicitly is considered good programming practice. It helps in organizing and maintaining code readability. It clearly indicates that you are done with the file and signals the end of your file-related operations."
   ]
  },
  {
   "cell_type": "markdown",
   "id": "44352611-3cfb-4eb1-8235-a8b73e226b10",
   "metadata": {},
   "source": [
    "### Q3. Write a python program to create a text file. Write ‘I want to become a Data Scientist’ in that file. Then close the file. Open this file and read the content of the file."
   ]
  },
  {
   "cell_type": "code",
   "execution_count": 2,
   "id": "11cf21ab-ff84-4412-9504-cc64571148bd",
   "metadata": {},
   "outputs": [],
   "source": [
    "f = open(\"test.txt\" , 'w')\n",
    "f.write(\"I want to become a Data Scientist\")\n",
    "f.close()"
   ]
  },
  {
   "cell_type": "code",
   "execution_count": 3,
   "id": "d19011d6-20ea-4ff1-b595-6195a2a06448",
   "metadata": {},
   "outputs": [
    {
     "name": "stdout",
     "output_type": "stream",
     "text": [
      "I want to become a Data Scientist\n"
     ]
    }
   ],
   "source": [
    "with open(\"test.txt\" , 'r') as f:\n",
    "    print(f.read())"
   ]
  },
  {
   "cell_type": "markdown",
   "id": "5596f951-6534-4650-8b79-97d0c66fb13f",
   "metadata": {},
   "source": [
    "### Q4. Explain the following with python code: read(), readline() and readlines()."
   ]
  },
  {
   "cell_type": "markdown",
   "id": "f81bcee9-6fd2-4396-8d40-6b6437aa0dc6",
   "metadata": {},
   "source": [
    "In Python, the read(), readline(), and readlines() functions are used to read data from a file. Here's an explanation of each function:\n",
    "\n",
    "#### 1. read(): \n",
    "The read() function is used to read the entire contents of a file as a single string. It reads from the current file position until the end of the file. The returned string includes newline characters ('\\n') if they exist in the file. If you don't pass any argument to read(), it will read the entire file.\n",
    "\n",
    "#### 2. readline(): \n",
    "The readline() function is used to read a single line from a file. It reads from the current file position until it encounters a newline character ('\\n') or reaches the end of the file. The returned string includes the newline character at the end of the line. Subsequent calls to readline() will continue reading subsequent lines.\n",
    "\n",
    "#### 3. readlines(): \n",
    "The readlines() function is used to read all the lines of a file and return them as a list of strings. Each string in the list represents a line from the file, including the newline character ('\\n') at the end of each line."
   ]
  },
  {
   "cell_type": "markdown",
   "id": "7177e2b8-ec7b-4729-8827-fe9e9daaf9e3",
   "metadata": {},
   "source": [
    "### Q5. Explain why with statement is used with open(). What is the advantage of using with statement and open() together?"
   ]
  },
  {
   "cell_type": "markdown",
   "id": "3103fafa-67a9-409b-82eb-1baacdc0f9c7",
   "metadata": {},
   "source": [
    "The with statement in Python is used in conjunction with the open() function to provide a convenient way of working with files. It ensures that the file is automatically closed after the block of code inside the with statement is executed, even if an exception occurs. Here's why using the with statement with open() is advantageous:\n",
    "\n",
    "#### Automatic Resource Management: \n",
    "When you use the with statement, the file is automatically closed when the block of code is exited, regardless of how the block is exited. It guarantees that the file is properly closed, even if exceptions occur within the block. This ensures efficient resource management and avoids the need for manual close() calls.\n",
    "\n",
    "#### Simpler Syntax: \n",
    "Using the with statement provides a cleaner and more concise syntax compared to explicitly opening and closing the file. It eliminates the need for separate open() and close() calls, reducing the chances of forgetting to close the file and improving code readability.\n",
    "\n",
    "#### Error Handling: \n",
    "The with statement handles exceptions automatically. If an exception occurs within the block, the file is still closed before the exception is propagated, preventing resource leaks. This simplifies error handling and ensures that resources are properly released, even in the presence of exceptions.\n",
    "\n",
    "#### Context Manager Protocol: \n",
    "The with statement is part of the Context Manager protocol in Python. It allows objects to define their own behavior when used with the with statement. By using open() with the with statement, you are leveraging the built-in context management capabilities of the file object, which ensures proper handling of resources and exception handling."
   ]
  },
  {
   "cell_type": "markdown",
   "id": "6294aa30-a74f-4da4-9d4a-36c0e710793d",
   "metadata": {},
   "source": [
    "### Q6. Explain the write() and writelines() functions. Give a suitable example."
   ]
  },
  {
   "cell_type": "markdown",
   "id": "f5cc77b4-7e09-4d89-8a51-15b4f7974e12",
   "metadata": {},
   "source": [
    "In Python, the write() and writelines() functions are used to write data to a file. Here's an explanation of each function along with a suitable example:\n",
    "\n",
    "#### write(): \n",
    "The write() function is used to write a string of characters to a file. It appends the given string to the end of the file or overwrites the existing contents, depending on the mode in which the file is opened. The write() function returns the number of characters written to the file.\n",
    "\n",
    "Example:"
   ]
  },
  {
   "cell_type": "code",
   "execution_count": 5,
   "id": "f2b1e41f-195b-4e28-ad63-319a032bfca3",
   "metadata": {},
   "outputs": [],
   "source": [
    "file = open(\"example.txt\", \"w\")\n",
    "file.write(\"Hello, World!\")\n",
    "file.close()"
   ]
  },
  {
   "cell_type": "markdown",
   "id": "e9ed0436-275e-48bc-8ae7-7963a5c3d6d4",
   "metadata": {},
   "source": [
    "#### writelines(): \n",
    "The writelines() function is used to write a sequence of strings to a file. It takes an iterable (such as a list or tuple) of strings and writes each string as a separate line in the file. The strings are concatenated with newline characters ('\\n') between them.\n",
    "\n",
    "Example:"
   ]
  },
  {
   "cell_type": "code",
   "execution_count": 6,
   "id": "2e30181c-ee46-460e-b8a2-64ca166f9414",
   "metadata": {},
   "outputs": [],
   "source": [
    "lines = [\"Line 1\", \"Line 2\", \"Line 3\"]\n",
    "file = open(\"example1.txt\", \"w\")\n",
    "file.writelines(lines)\n",
    "file.close()"
   ]
  },
  {
   "cell_type": "code",
   "execution_count": null,
   "id": "3786d18e-0dd2-4498-ba3c-863a0876b244",
   "metadata": {},
   "outputs": [],
   "source": []
  }
 ],
 "metadata": {
  "kernelspec": {
   "display_name": "Python 3 (ipykernel)",
   "language": "python",
   "name": "python3"
  },
  "language_info": {
   "codemirror_mode": {
    "name": "ipython",
    "version": 3
   },
   "file_extension": ".py",
   "mimetype": "text/x-python",
   "name": "python",
   "nbconvert_exporter": "python",
   "pygments_lexer": "ipython3",
   "version": "3.10.8"
  }
 },
 "nbformat": 4,
 "nbformat_minor": 5
}
