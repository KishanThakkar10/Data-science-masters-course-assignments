{
 "cells": [
  {
   "cell_type": "markdown",
   "id": "19f471b8-7e92-4132-be0e-b3ff41270c03",
   "metadata": {},
   "source": [
    "# Assignment - Tuple, Set & Dict Assignment (2 feb 23)"
   ]
  },
  {
   "cell_type": "markdown",
   "id": "0ee99cf4-c12f-457c-ab8d-c9c7715dc5f6",
   "metadata": {},
   "source": [
    "### Q1. What are the characteristics of the tuples? Is tuple immutable?\n",
    "\n",
    "Tuples in Python have the following characteristics:\n",
    "\n",
    "- Ordered\n",
    "- Immutable\n",
    "- Heterogeneous\n",
    "- Supports indexing\n",
    "- Supports nesting\n",
    "- Supports comparisons\n",
    "- Supports unpacking\n",
    "\n",
    "Tuples are immutable, meaning once created, you cannot modify their elements. You cannot add, remove, or change individual elements within a tuple. However, you can create a new tuple by concatenating or slicing existing tuples."
   ]
  },
  {
   "cell_type": "markdown",
   "id": "f3bf144b-1059-438c-92c5-dc8c04aa01ff",
   "metadata": {},
   "source": [
    "### Q2. What are the two tuple methods in python? Give an example of each method. Give a reason why tuples have only two in-built methods as compared to Lists.\n",
    "\n",
    "#### Answer:\n",
    "\n",
    "The two tuple methods in Python are count() and index().\n",
    "\n",
    "count(): This method returns the number of occurrences of a specified value in a tuple. It takes a single argument, which is the value to be counted.\n",
    "\n",
    "index(): This method returns the index of the first occurrence of a specified value in a tuple."
   ]
  },
  {
   "cell_type": "code",
   "execution_count": null,
   "id": "946dad2e-cf1c-4518-aca5-080c05ef84cd",
   "metadata": {},
   "outputs": [
    {
     "data": {
      "text/plain": [
       "4"
      ]
     },
     "execution_count": 3,
     "metadata": {},
     "output_type": "execute_result"
    }
   ],
   "source": [
    "# example of count()\n",
    "tup = (1,3,2,2,5,3,6,3,3)\n",
    "tup.count(3)"
   ]
  },
  {
   "cell_type": "code",
   "execution_count": 4,
   "id": "5a1f1635-851e-4d05-86aa-6cf5d18633a3",
   "metadata": {},
   "outputs": [
    {
     "data": {
      "text/plain": [
       "1"
      ]
     },
     "execution_count": 4,
     "metadata": {},
     "output_type": "execute_result"
    }
   ],
   "source": [
    "# example of index()\n",
    "tup = (1,3,2,2,5,3,6,3,3)\n",
    "tup.index(3)"
   ]
  },
  {
   "cell_type": "markdown",
   "id": "54859b92-e39f-4a7c-9be0-3281ff64d933",
   "metadata": {},
   "source": [
    "Reason why tuples have only two in-built methods as compared to Lists.\n",
    "Because tuples are designed to be immutable, meaning they cannot be modified once created. The limited number of methods helps enforce the immutability of tuples. In contrast, lists have more built-in methods because they are mutable, allowing for dynamic modifications such as adding, removing, or modifying elements. The additional methods in lists support these mutable operations."
   ]
  },
  {
   "cell_type": "markdown",
   "id": "0557bea0-43f3-4683-8ced-f5ac5359a5f1",
   "metadata": {},
   "source": [
    "### Q3. Which collection datatypes in python do not allow duplicate items? Write a code using a set to remove duplicates from the given list. List = [1, 1, 1, 2, 1, 3, 1, 4, 2, 1, 2, 2, 2, 3, 2, 4, 3, 1, 3, 2, 3, 3, 3, 4, 4, 1, 4, 2, 4, 3, 4, 4]"
   ]
  },
  {
   "cell_type": "markdown",
   "id": "654cd21a-9e32-4286-a6cf-855377da4907",
   "metadata": {},
   "source": [
    "#### Answer:\n",
    "In python set does not allow duplicate items.\n",
    "here is the code to remove duplicates from the given list using set."
   ]
  },
  {
   "cell_type": "code",
   "execution_count": 7,
   "id": "f8bee817-e3ed-4fa1-be22-06ffe7e8b6ea",
   "metadata": {},
   "outputs": [],
   "source": [
    "l = [1, 1, 1, 2, 1, 3, 1, 4, 2, 1, 2, 2, 2, 3, 2, 4, 3, 1, 3, 2, 3, 3, 3, 4, 4, 1, 4, 2, 4, 3, 4, 4]\n",
    "\n",
    "s = set(l)\n",
    "l = list(s)"
   ]
  },
  {
   "cell_type": "code",
   "execution_count": 8,
   "id": "023df41a-15d8-4e91-8e33-45f24a348a6f",
   "metadata": {},
   "outputs": [
    {
     "data": {
      "text/plain": [
       "[1, 2, 3, 4]"
      ]
     },
     "execution_count": 8,
     "metadata": {},
     "output_type": "execute_result"
    }
   ],
   "source": [
    "l"
   ]
  },
  {
   "cell_type": "markdown",
   "id": "95a968c0-2cb8-44ab-9daf-9ddbad151875",
   "metadata": {},
   "source": [
    "### Q4. Explain the difference between the union() and update() methods for a set. Give an example of each method."
   ]
  },
  {
   "cell_type": "markdown",
   "id": "2bdef327-39f6-45ae-ae27-23e1a78fbad9",
   "metadata": {},
   "source": [
    "#### Answer:\n",
    "The union() and update() methods in Python sets are used to combine sets together, but they differ in how they handle the operation and the way the original sets are modified.\n",
    "\n",
    "- union() method:\n",
    "\n",
    "The union() method returns a new set that contains all the unique elements from the original set and the specified set(s) or iterable(s) provided as arguments.\n",
    "The original sets remain unchanged; a new set is created as the result of the union operation.\n"
   ]
  },
  {
   "cell_type": "code",
   "execution_count": 9,
   "id": "41782996-c4c0-4ebd-a078-88e94c92367b",
   "metadata": {},
   "outputs": [
    {
     "name": "stdout",
     "output_type": "stream",
     "text": [
      "{1, 2, 3, 4}\n",
      "{1, 2, 3, 4, 6, 8}\n"
     ]
    }
   ],
   "source": [
    "# Here's an example using the union() method:\n",
    "s1 = {1,2,3,4}\n",
    "s2 = {2,4,6,8}\n",
    "\n",
    "s3 = s1.union(s2)\n",
    "print(s1)\n",
    "print(s3)"
   ]
  },
  {
   "cell_type": "markdown",
   "id": "0bf4fc8e-e09a-4b40-a2c3-0d850a3f4115",
   "metadata": {},
   "source": [
    "- update() method:\n",
    "\n",
    "The update() method modifies the original set by adding all the unique elements from the specified set(s) or iterable(s) to it.\n",
    "The original set is updated in-place; no new set is created.\n"
   ]
  },
  {
   "cell_type": "code",
   "execution_count": 10,
   "id": "2aad5ea6-a2b9-461d-b217-460fb25895c4",
   "metadata": {},
   "outputs": [
    {
     "name": "stdout",
     "output_type": "stream",
     "text": [
      "{1, 2, 3, 4, 6, 8}\n"
     ]
    }
   ],
   "source": [
    "# Here's an example using the update() method:\n",
    "s1 = {1,2,3,4}\n",
    "s2 = {2,4,6,8}\n",
    "\n",
    "s1.update(s2)\n",
    "print(s1)"
   ]
  },
  {
   "cell_type": "markdown",
   "id": "24eb633e-a54a-4e6b-9c89-92036012bf7f",
   "metadata": {},
   "source": [
    "### Q5. What is a dictionary? Give an example. Also, state whether a dictionary is ordered or unordered.\n",
    "\n",
    "#### Answer:\n",
    "\n",
    "A dictionary is a built-in data type in Python that represents an unordered collection of key-value pairs. It is also known as an associative array or hash map. Each key in a dictionary is unique and associated with a value. \n",
    "\n",
    "Here's an example of a dictionary in Python:"
   ]
  },
  {
   "cell_type": "code",
   "execution_count": 11,
   "id": "bdefeeca-1d6d-49e9-9da2-7c9fb532ed25",
   "metadata": {},
   "outputs": [],
   "source": [
    "d = {\"name\" : \"Kishan\" , \"number\" : 1234 , \"course\" : \"Data science masters\" }"
   ]
  },
  {
   "cell_type": "code",
   "execution_count": 12,
   "id": "0cd7749e-76e2-4b3c-8069-0bd3ffd92f72",
   "metadata": {},
   "outputs": [
    {
     "data": {
      "text/plain": [
       "{'name': 'Kishan', 'number': 1234, 'course': 'Data science masters'}"
      ]
     },
     "execution_count": 12,
     "metadata": {},
     "output_type": "execute_result"
    }
   ],
   "source": [
    "d"
   ]
  },
  {
   "cell_type": "markdown",
   "id": "f5457c4d-f889-405d-a3df-09d718fcfd1b",
   "metadata": {},
   "source": [
    "In this example, the dictionary 'd' has three key-value pairs. The keys are 'name', 'number', and 'course', and their corresponding values are 'Kishan', 1234, and 'Data science masters', respectively.\n",
    "\n",
    "Regarding the order of a dictionary,dictionaries are ordered."
   ]
  },
  {
   "cell_type": "markdown",
   "id": "fea15717-656b-4876-9fa2-3fa167655465",
   "metadata": {},
   "source": [
    "### Q6. Can we create a nested dictionary? If so, please give an example by creating a simple one-level nested dictionary."
   ]
  },
  {
   "cell_type": "markdown",
   "id": "ecc6fa3d-41cb-465c-b1b1-7f2d8c72505f",
   "metadata": {},
   "source": [
    "#### Answer:\n",
    "\n",
    "Yes, we can create nested dictionary. here is the example of one-level nested dictionary:"
   ]
  },
  {
   "cell_type": "code",
   "execution_count": 1,
   "id": "662a6d7b-d726-4e71-9a8e-f9c8266adaf4",
   "metadata": {},
   "outputs": [],
   "source": [
    "student = {\n",
    "    'name': 'Kishan',\n",
    "    'age': 22,\n",
    "    'grades': {\n",
    "        'math': 90,\n",
    "        'science': 95,\n",
    "        'history': 92\n",
    "    },\n",
    "    'city': 'Ahmedabad'\n",
    "}"
   ]
  },
  {
   "cell_type": "code",
   "execution_count": 2,
   "id": "354455d7-4c17-4699-bbf7-fc181c2635a6",
   "metadata": {},
   "outputs": [
    {
     "data": {
      "text/plain": [
       "{'name': 'Kishan',\n",
       " 'age': 22,\n",
       " 'grades': {'math': 90, 'science': 95, 'history': 92},\n",
       " 'city': 'Ahmedabad'}"
      ]
     },
     "execution_count": 2,
     "metadata": {},
     "output_type": "execute_result"
    }
   ],
   "source": [
    "student"
   ]
  },
  {
   "cell_type": "markdown",
   "id": "639da8d4-cb2f-44b1-91c7-6248d73bf814",
   "metadata": {},
   "source": [
    "### Q7. Using setdefault() method, create key named topics in the given dictionary and also add the value of the key as this list ['Python', 'Machine Learning’, 'Deep Learning']\n",
    "dict1 = {'language' : 'Python', 'course': 'Data Science Masters'}"
   ]
  },
  {
   "cell_type": "code",
   "execution_count": 4,
   "id": "8a0ad963-d85e-4a9f-8698-6a3406092843",
   "metadata": {},
   "outputs": [
    {
     "name": "stdout",
     "output_type": "stream",
     "text": [
      "{'language': 'Python', 'course': 'Data Science Masters', 'topics': ['Python', 'Machine Learning', 'Deep Learning']}\n"
     ]
    }
   ],
   "source": [
    "dict1 = {'language' : 'Python', 'course': 'Data Science Masters'}\n",
    "\n",
    "topics_list = ['Python', 'Machine Learning', 'Deep Learning']\n",
    "dict1.setdefault('topics', []).extend(topics_list)\n",
    "\n",
    "print(dict1)"
   ]
  },
  {
   "cell_type": "markdown",
   "id": "c3f07358-9b8c-4a80-9169-c938c6a7eb7a",
   "metadata": {},
   "source": [
    "### Q8. What are the three view objects in dictionaries? Use the three in-built methods in python to display these three view objects for the given dictionary.\n",
    "dict1 = {'Sport': 'Cricket' , 'Teams': ['India', 'Australia', 'England', 'South Africa', 'Sri Lanka', 'New Zealand']}"
   ]
  },
  {
   "cell_type": "markdown",
   "id": "2d29a52b-422a-4ed0-aa22-b3a3c4389d54",
   "metadata": {},
   "source": [
    "#### Answer:\n",
    "\n",
    "The main view objects of dictionary in python are keys, values and items."
   ]
  },
  {
   "cell_type": "code",
   "execution_count": 5,
   "id": "61f7a7f4-2c32-4c9a-95a6-5af5aad0601c",
   "metadata": {},
   "outputs": [
    {
     "name": "stdout",
     "output_type": "stream",
     "text": [
      "Keys View: dict_keys(['Sport', 'Teams'])\n",
      "Values View: dict_values(['Cricket', ['India', 'Australia', 'England', 'South Africa', 'Sri Lanka', 'New Zealand']])\n",
      "Items View: dict_items([('Sport', 'Cricket'), ('Teams', ['India', 'Australia', 'England', 'South Africa', 'Sri Lanka', 'New Zealand'])])\n"
     ]
    }
   ],
   "source": [
    "dict1 = {'Sport': 'Cricket', 'Teams': ['India', 'Australia', 'England', 'South Africa', 'Sri Lanka', 'New Zealand']}\n",
    "\n",
    "keys_view = dict1.keys()\n",
    "values_view = dict1.values()\n",
    "items_view = dict1.items()\n",
    "\n",
    "print(\"Keys View:\", keys_view)\n",
    "print(\"Values View:\", values_view)\n",
    "print(\"Items View:\", items_view)"
   ]
  },
  {
   "cell_type": "code",
   "execution_count": null,
   "id": "d39070a9-8c60-4e72-ad4c-955526dbc392",
   "metadata": {},
   "outputs": [],
   "source": []
  }
 ],
 "metadata": {
  "kernelspec": {
   "display_name": "Python 3 (ipykernel)",
   "language": "python",
   "name": "python3"
  },
  "language_info": {
   "codemirror_mode": {
    "name": "ipython",
    "version": 3
   },
   "file_extension": ".py",
   "mimetype": "text/x-python",
   "name": "python",
   "nbconvert_exporter": "python",
   "pygments_lexer": "ipython3",
   "version": "3.10.8"
  }
 },
 "nbformat": 4,
 "nbformat_minor": 5
}
